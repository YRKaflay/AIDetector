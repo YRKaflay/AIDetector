{
 "cells": [
  {
   "cell_type": "markdown",
   "metadata": {},
   "source": [
    "Ingesting PDFs"
   ]
  },
  {
   "cell_type": "code",
   "execution_count": 1,
   "metadata": {},
   "outputs": [],
   "source": [
    "!pip install --q unstructured langchain langchain-community\n",
    "!pip install --q \"unstructured[local-inference]\" ipywidgets tqdm"
   ]
  },
  {
   "cell_type": "code",
   "execution_count": 2,
   "metadata": {},
   "outputs": [
    {
     "name": "stderr",
     "output_type": "stream",
     "text": [
      "C:\\Users\\USER\\AppData\\Local\\Temp\\ipykernel_53808\\3632673901.py:3: TqdmExperimentalWarning: Using `tqdm.autonotebook.tqdm` in notebook mode. Use `tqdm.tqdm` instead to force console mode (e.g. in jupyter console)\n",
      "  from tqdm.autonotebook import tqdm as notebook_tqdm\n"
     ]
    }
   ],
   "source": [
    "from langchain_community.document_loaders import UnstructuredPDFLoader\n",
    "from IPython.display import display as Markdown\n",
    "from tqdm.autonotebook import tqdm as notebook_tqdm"
   ]
  },
  {
   "cell_type": "code",
   "execution_count": 3,
   "metadata": {},
   "outputs": [],
   "source": [
    "local_path = \"Scholz_2022_PASP_134_104401.pdf\"\n",
    "\n",
    "# Local PDF file uploads\n",
    "if local_path:\n",
    "  loader = UnstructuredPDFLoader(file_path=local_path)\n",
    "  data = loader.load()\n",
    "else:\n",
    "  print(\"Upload a PDF file\")"
   ]
  },
  {
   "cell_type": "code",
   "execution_count": 4,
   "metadata": {},
   "outputs": [
    {
     "data": {
      "text/plain": [
       "'Publications of the Astronomical Society of the Paciﬁc, 134:104401 (10pp), 2022 October © 2022. The Author(s). Published by IOP Publishing Ltd on behalf of the Astronomical Society of the Paciﬁc (ASP). All rights reserved\\n\\nhttps://doi.org/10.1088/1538-3873/ac9431\\n\\nRogue Planets and Brown Dwarfs: Predicting the Populations Free-ﬂoating Planetary Mass Objects Observable with JWST\\n\\nAleks Scholz1\\n\\n, Koraljka Muzic2\\n\\n, Ray Jayawardhana3\\n\\n, Lyra Quinlan1, and James Wurster1\\n\\n1 SUPA, School of Physics & Astronomy, University of St Andrews, North Haugh, St Andrews, KY16 9SS, UK; as110@st-andrews.ac.uk 2 CENTRA, Faculdade de Ciências, Universidade de Lisboa, Ed. C8, Campo Grande, 1749-016 Lisboa, Portugal 3 Department of Astronomy, Cornell University, Ithaca, NY 14853, USA Received 2022 August 18; accepted 2022 September 22; published 2022 October 11\\n\\nAbstract Free-ﬂoating (or rogue) planets are planets that are liberated (or ejected) from their host systems. Although simulations predict their existence in substantial numbers, direct observational evidence for free-ﬂoating planets with masses below ∼5 MJup is still lacking. Several cycle-1 observing programs with JWST aim to hunt for them in four different star-forming clusters. These surveys are designed to be sensitive to masses of 1–15 MJup (assuming a hot-start formation), which corresponds to spectral types of early L to late T for the ages of these clusters. If the existing simulations are not wide off the mark, we show here that the planned programs are likely to ﬁnd up to 10–20 giant rogue planets in moderate density clusters like NGC1333 or IC348, and several dozen to ∼100 in high-density regions like NGC2024 and the Orion Nebula Cluster. These numbers correspond to 1%–5% of the total cluster population; they could be substantially higher if stars form multiple giant planets at birth. In contrast, the number of free-ﬂoating brown dwarfs, formed from core collapse (like stars) is expected to be signiﬁcantly lower, only about 0.25% of the number of stars, or 1–7 for the clusters considered here. Below 10 MJup that number drops further by an order of magnitude. We also show that the planned surveys are not at risk of being signiﬁcantly contaminated by ﬁeld brown dwarfs in the foreground or background, after spectroscopic conﬁrmation. Taken together, our results imply that if a population of L and T dwarfs were to be found in these JWST surveys, it is expected to be predominantly made up of rogue planets. Uniﬁed Astronomy Thesaurus concepts: Exoplanet formation (492); Free ﬂoating planets (549); Infrared observatories (791); Brown dwarfs (185); Initial mass function (796)\\n\\n1. Introduction Free-ﬂoating (or rogue) planets are objects that are formed in a disk around a young star, and subsequently ejected from their planetary system. According to simulations, these rogue planets are expected to be a signiﬁcant component of the substellar population, in particular for masses below the Deuterium burning limit (e.g., Parker & Quanz 2012; van Elteren et al. 2019). So far we have very limited knowledge of this population. Deep surveys of clusters, star-forming regions, and the ﬁeld have only been able to dip into the planetary-mass domain (e.g., Peña Ramírez et al. 2012; Scholz et al. 2012; Gagné et al. 2017; Lodieu et al. 2021; Bouy et al. 2022; Miret- Roig et al. 2022), and found a few dozen of spectroscopically conﬁrmed objects below the Deuterium burning limit, which could have formed either from core collapse (“like stars”) or in a protoplanetary disk (“like planets”). Meanwhile, microlensing Original content from this work may be used under the terms of the Creative Commons Attribution 3.0 licence. Any further distribution of this work must maintain attribution to the author(s) and the title of the work, journal citation and DOI.\\n\\nsurveys tentatively indicate the existence of a population of free-ﬂoating objects with planetary masses (Mróz et al. 2017; McDonald et al. 2021). Our knowledge of the demographics of exoplanets will not be complete without ﬁrm observational those that got ejected (or constraints on the number of liberated) from their host planetary systems.\\n\\nThe advent of JWST offers a tremendous boost to this ﬁeld of research. It is the ﬁrst telescope that has the capability to ﬁnd and characterize directly free-ﬂoating planets down to masses of approximately 1 MJup or even below. For the ﬁrst time, we will be able to produce a robust census of the sub-stellar population with masses between 1 and 15 MJup, and probe directly the predictions from the simulations mentioned above. In cycle 1, four guaranteed time observing (GTO) programs will be in position to do exactly that, targeting four different young clusters of stars, two in Perseus and two in Orion, all within 500 pc. Beyond cycle 1 a wide range of programs to survey other regions and to characterize the ﬁrst samples of free-ﬂoating planets can be expected.\\n\\nAny survey that aims to ﬁnd free-ﬂoating planets in a speciﬁc star-forming region will also ﬁnd objects that are\\n\\n1\\n\\nPublications of the Astronomical Society of the Paciﬁc, 134:104401 (10pp), 2022 October\\n\\nScholz et al.\\n\\nforming like stars in the same region, as well as contaminating brown dwarfs in the foreground and background of the cluster that share spectral characteristics with free-ﬂoating planets. In this paper, we aim to gauge likely outcomes of the planned JWST programs, by estimating how many free-ﬂoating planets we expect to ﬁnd in a given region, and how that number compares to the total number of objects with similar characteristics that will be detected in the same surveys.\\n\\nIn the following we will distinguish between brown dwarfs, as objects that are formed alongside stars in the collapse and fragmentation of molecular clouds, and free-ﬂoating or rogue planets, as objects formed in and then ejected from a (proto-) planetary system. We acknowledge that at the time of writing there is no observational test available to distinguish between formation scenarios for individual objects, although research on topic will also beneﬁt greatly from JWST exactly that observations. Most of the observational evidence to date supports the view that free-ﬂoating substellar objects down to the Deuterium burning limit are formed predominantly “like stars” (see review by Luhman 2012, and references therein). It is also plausible to assume that this population will diminish in number per mass bin as we probe lower and lower masses and approach the opacity limit for fragmentation (Bate 2012). The purpose of this paper is to ﬁnd out what type of objects, from which formation channel, we should expect to ﬁnd below the Deuterium burning limit, based on our current understanding. Therefore it makes sense to distinguish populations based on formation scenarios.\\n\\nTable 1 JWST GTO Programs Approved for Cycle 1, with the Potential to Find Free- ﬂoating Planets\\n\\nTarget\\n\\nProgram ID Instrument Mode\\n\\nFOV\\n\\nNGC1333\\n\\n1202 NIRISS Slitless spectroscopy 30\\n\\nIC348 1229a NIRCam Imaging\\n\\n20\\n\\nNGC2024\\n\\n1190 NIRCam Imaging\\n\\n10\\n\\nONC\\n\\n1256 NIRCam Imaging\\n\\n80\\n\\n(sqarcmin)\\n\\nOn-source time (s) Depth (K-mag) Distance (pc)b Number of starsc\\n\\n3100\\n\\n21 296 200\\n\\n300\\n\\n23 324 500\\n\\n6660\\n\\n24 414 800\\n\\n770\\n\\n23 403 2600\\n\\nScheduled ford\\n\\n8–10/2023\\n\\n8–10/2022\\n\\n2–3/2023\\n\\n9–10/2022\\n\\nNotes. a Program 1229 also includes a NIRSpec spectroscopy run at a later time, and parallel observations with NIRISS. b From Kuhn et al. (2019), except for NGC2024 where we use the distance cited in van Terwisga et al. (2020). c From Luhman et al. (2016) for Perseus and Kuhn et al. (2015) for Orion. d The JWST schedule is dynamic, that means, the actual observing dates may be different.\\n\\nremaining three are designed as multi-band imaging surveys with NIRCam, likely to be followed by spectroscopy.4\\n\\nWe proceed as follows. In Section 2 we summarize the GTO programs aiming to ﬁnd free-ﬂoating planets in young clusters. In Section 3 we collate and contextualise predictions from work on simulating the dynamical evolution of planetary systems, to estimate the number of free-ﬂoating giant planets in young clusters. In Section 4, we estimate the expected number of brown dwarfs (i.e., formed “like stars”) in the planetary mass domain. We devise a method to estimate the number of ﬁeld brown dwarfs that may contaminate surveys for free-ﬂoating planets in Section 5. Finally, we summarize and discuss these estimates in Section 6.\\n\\nThe four clusters offer a diverse set of initial conditions. NGC1333 and IC348 are of moderate density, host a few hundred stars and brown dwarfs each, but are without any O stars (Luhman et al. 2016). NGC2024 and the ONC are rich clusters, embedded in HII regions heated by massive stars (although in the case of NGC2024 the source of the heating is unclear, see van Terwisga et al. (2020) and references therein). NGC1333, NGC2024 and the ONC are very young, with typical ages below or around 1 Myr, while IC348 is a few Myr old. In all four clusters, deep surveys from the ground or with HST have revealed a rich substellar population (Levine et al. 2006; Da Rio et al. 2012; Scholz et al. 2012; Alves de Oliveira et al. 2013).\\n\\n2. Summary of Relevant JWST Cycle 1 Programs\\n\\nIn JWSTs cycle 1, four GTO programs will conduct deep surveys in nearby star-forming regions, and are in principle able to ﬁnd young free-ﬂoating objects down to masses comparable to Jupiter. The four target regions are all within 500 pc, two in Perseus (NGC1333 and IC348) and two in Orion (NGC2024 and the Orion Nebula Cluster, short ONC). These four programs are summarized in Table 1, with their basic parameters estimated from the published survey design. While the survey in NGC1333 with the WFSS mode of the instrument NIRISS (Willott et al. 2022) is a spectroscopy campaign, the\\n\\nAll four programs have been scheduled in the JWST Long Range Plan, with anticipated observations in late 2022 for IC348 and the ONC, and 2023 for NGC2024 and NGC1333. In Table 1 we estimate the survey footprint and the K-band depth for the observations. The footprint (the ﬁeld of view) is easy to infer the mosaics as shown in the Astronomers Proposal Tool (APT). The depth can be estimated from the given on-source exposure times using the JWST Exposure Time Calculator (ETC, version 1.7.0.1). We adopt a substellar source with a Teff = 1000 K model spectrum, and\\n\\nfrom the design of\\n\\n4 We note that another program with similar science goals is GO2640, targeting the distant (6 kpc) cluster Westerlund 2 with NIRCam.\\n\\n2\\n\\nPublications of the Astronomical Society of the Paciﬁc, 134:104401 (10pp), 2022 October\\n\\nScholz et al.\\n\\nchange the normalization in the K-band until sufﬁcient signal- to-noise ratio (SNR) is achieved. We assume a desired SNR of 10, reached in the wide- and medium band ﬁlters used in these four campaigns, with central wavelength >1.5 μm. Images at shorter wavelength may not be sensitive to the same level. We use the detector setup as speciﬁed in the APT descriptor, and medium background for all regions.\\n\\nin NGC1333 will provide immediate spectral information in the H- and K-bands, with a slitless instrument, as a result these are relatively shallow, with a projected depth at H ∼ 22 or K ∼ 21 (Willott et al. 2022) The three NIRCam imaging programs are deeper, by 2–3 mag, but will require spectroscopy follow-up. The observations in the ONC cover the widest ﬁeld, the ones in NGC2024 have the longest integration times (but for a small ﬁeld). The choice of ﬁlters and wavelength coverage, not discussed here further, is also different from program to program. All programs have their individual strengths, and are highly complementary to each other.\\n\\nThe NIRISS observations\\n\\nhave a brightness of MK = 14 (Spiegel & Burrows 2012), which translates to K = 21.3 for Perseus or K = 22 for Orion, all for AV = 0. This is comparable to the predictions from Lyon isochrones, which give MK = 13.7 (COND) or MK = 14.6 (DUSTY) for this type of object (Baraffe et al. 2002).\\n\\nAll programs in Table 1 should reach this limit. In fact, the NIRISS survey in NGC1333 was designed explicitly for this mass and age limit. The three imaging surveys will be deeper, and depending on the depth of the follow-up spectroscopy could reach objects with masses below 1 MJup. The spectro- scopic survey for IC348, already planned for cycle 1, should approximately match the depth of the imaging campaign. In this paper we will focus on the mass range between 1 and 15 MJup for which all surveys are sensitive.\\n\\nWe note that when making statements about the depth of the surveys, age and extinction need to be speciﬁed. With AV = 10, the brightness would drop by 1 mag in the K-band. Also, to MK = 16−17 with increasing age the brightness drops, for 5 Myr.\\n\\nHow do the projected depths of the programs compare to the instrument sensitivities as determined from JWST commission- ing data (Rigby et al. 2022)? For NIRISS in WFSS mode, the throughput is 30% better, resulting in on-sky sensitivities that are 7%–20% improved compared to the ETC. For NIRCam, the throughput is comparable to pre-launch expectations, and the point source sensitivity is slightly better: 7.3 compared to 10 nJy, for a SNR of 10 in 10,000 s exposures. This estimated sensitivity corresponds to a K-band (Vega) magnitude of about lim = K the value taken from the ETC.\\n\\n27.3\\n\\n, compared to 27.0 for\\n\\nAs another note of caution, with “cold start” models, the predicted brightness of planets would drop by several magnitudes, to MK = 17−18 (Spiegel & Burrows 2012). If these are realistic, the mass range of the JWST surveys would be severely limited (for example, in the case of NGC1333, the survey would only reach about 5 MJup). Recent observational tests of these model tracks (Berardo & Cumming 2017; Flagg et al. 2019) as well as theoretical considerations (Marleau & Cumming 2014; Marleau et al. 2019) make hot start scenarios far more plausible, hence, we ignore the cold start scenario in the following.\\n\\nInfrared images of star-forming regions are challenging for source extraction and precise photometry, due to the strongly varying background. The early released images of NGC3324, program ID 2731 (Pontoppidan et al. 2022), may provide a good example of what to expect from NIRCam imaging of star- forming regions. The pipeline-provided photometry catalog for the F200W image with a central wavelength of 2.0 μm and an on-source exposure time of 1610 s is complete up to a Vegamag around 25 in this band. The F200W ﬁlter has approximately the same zero-point as the 2MASS K-band (±0.2 mag). Scaling to 10,000 s, this is still 1.3 mag shallower than Klim as given in the commissioning report. The ETC estimates a SNR of ∼10 for the Carina imaging at the completeness limit achieved in the actual data. Thus, while imaging of star-forming regions unsurprisingly is not going to be as sensitive as in typical ﬁelds, these cross-checks provide re-assurance that the numbers from the ETC are realistic, albeit perhaps slightly pessimistic.\\n\\nAll programs listed in Table 1 aim to measure the mass function, therefore it seems appropriate to give some indica- tions about the depth in terms of mass. A useful benchmark is a 1 MJup mass object at the age of around 1 Myr. According to “hot start” models of planet formation, such an object should\\n\\n3. Simulations of Planet Ejection\\n\\nfate of (see planetary systems Parker 2020, for a review). These simulations, with a varied set of initial conditions and assumptions, generally predict the presence of a population of free-ﬂoating planets in star-forming regions. The main mechanisms that are responsible for the liberation of young planets from their host stars are encounters with other stars in a cluster and planet–planet interactions. Most of the cited work below comes from N-body simulations, using various approaches to reduce the complexity of the numerical problem.\\n\\nSeveral groups have simulated the dynamical\\n\\nin clustered birth environments\\n\\nThe predicted fraction of ejected planets in clusters from these simulations typically ranges from about 5 to 25% (e.g., Parker & Quanz 2012; Liu et al. 2013; Forgan et al. 2015; Zheng et al. 2015). This rate depends on a wide variety of parameters. It increases with higher cluster density and substructure, and could perhaps reach 50% or more for very dense, structured clusters (Daffern-Powell et al. 2022) or to 1%–2% for low-density clusters (Cai et al. 2017). For environments like NGC1333 with moderate initial density (500–2000Mepc−3, Parker & Alves de\\n\\n3\\n\\nPublications of the Astronomical Society of the Paciﬁc, 134:104401 (10pp), 2022 October\\n\\nScholz et al.\\n\\nOliveira 2017), a realistic estimate is probably at the lower end of the quoted range. In fact, Adams et al. (2006) argued that for a cluster like NGC1333 the disruption of planetary systems must be rare. For massive, dense clusters like the ONC, we would expect higher ejection rates (14% in the simulations by van Elteren et al. (2019), which mimic the ONC). On the other hand, disks may be disrupted more often in high-density environments, either by dynamical encounters with stars or by the radiation ﬁeld from massive stars (Winter et al. 2022), inhibiting planet formation, and thus reducing the number of free-ﬂoating planets in an indirect way. The ejection rate may also depend on the properties of the host stars, in particular, it may increase with stellar mass (Fujii & Hori 2019). Binary systems are more likely to eject planets than single stars, thus, the binary fraction in a cluster matters as well (Wang et al. 2020).\\n\\nThe age of the cluster is critical: While the number of ejected planets in a cluster rises strongly in the ﬁrst few Myrs after planet formation, and then plateaus, a signiﬁcant portion of the liberated planets will escape from the cluster, also on timescales of a few Myrs (van Elteren et al. 2019). This means that free-ﬂoating planets are only expected to be found in young clusters for a relatively narrow age range, conceivably between 1 and 5 Myr. For extremely young clusters, planets are not formed yet or have not had time to experience events that may lead to ejection. For slightly older clusters, the free- ﬂoating planets will have escaped into the ﬁeld population (see also Smith & Bonnell 2001). As noted in Section 2, the brightness of these objects drops steeply with age, making them much harder to detect in older clusters.\\n\\nSo far, simulations have not explored the combination of all these effects systematically. Taken together, we would expect signiﬁcant variations in the number of free-ﬂoating planets as a function of environmental parameters, such as the space density of stars. However, it may be challenging to directly measure these variations in the mass function, especially given the low numbers that are expected; see the discussion in Mužić et al. (2019). We note that during main-sequence and post-main- sequence lifetimes more planets will be liberated (Veras et al. 2011; Veras & Moeckel 2012), which would increase the number of free-ﬂoating planets in the ﬁeld, but not affect star- forming regions. Observations with JWST, no matter the outcome, will put strong constraints on the quoted simulations. In the following we use the simulations as guidance to estimate the number of expected free-ﬂoating planets in young clusters with masses above 1 MJup, which are directly detectable with JWST (see Section 2). Given the dependencies outlined above, this is aimed to be an order of magnitude estimate.\\n\\nTo start, we need to establish how many giant planets are likely to be formed in the ﬁrst place. Direct imaging surveys for giant planets typically detect planets with masses > 1 MJup and orbits >5 au around a few percent of their target stars (Biller et al. 2013; Vigan et al. 2017; Gaudi et al. 2021).\\n\\nSpeciﬁcally, for young systems Vigan et al. (2021) ﬁnd that ∼6% host at least one such planet. In addition, long term radial velocity studies constrain the occurrence rate for >1 MJup planets on orbital separations larger than 1 au to about 5%–15% (Wittenmyer et al. 2020; Fulton et al. 2021; Wolthoff et al. 2022). About 1%–3% of stars will host a hot or warm Jupiter on orbits <1 au (Wright et al. 2012; Wittenmyer et al. 2020). Microlensing studies indicate that 17% of stars have planets of 0.3–10 MJup and separations 0.5–10 au (Cassan et al. 2012).\\n\\nNote that all these studies focus on stars older than the star- forming regions we are interested in. They will therefore not include planets that have been ejected or planets that have plunged into the star during the ﬁrst Myrs. Thus, the occurrence rate may be signiﬁcantly higher for young stars. Overall, it is plausible to assume that at least around 20% of very young stars form a planet with a Jupiter mass or more, most of these will reside on separations of 1 au or larger. With the ejection rates from simulations, as quoted above, that means between 1 and 5% of stars eject a giant planet.\\n\\nThe approximate number of young stars in the four clusters in question is cited in Table 1. For NGC1333 we would expect about 40 of them to have formed a giant planet, for IC348 100, for NGC2024 160 and for the ONC 520. Again using the ejection rates from simulations, the number of free-ﬂoating planets with masses above 1 MJup would be 2–10 in NGC1333, 5–25 in IC348, 8–40 in NGC2024, and 26–130 in the ONC. These numbers are summarized in Table 2.\\n\\nThe estimates come with a number of serious caveats. Just to name a few: As mentioned above, some of these rogue planets will leave the cluster on timescales comparable to the age of the stars, and some may not have had sufﬁcient time yet to get ejected. Also, the surveys introduced in Section 2 do not cover the entirety of the clusters. Thus, not all these planets will reside in the cluster areas covered by JWST in cycle 1. Follow- up observations to cover wider areas to complete the census may be warranted.\\n\\nThe entire architecture of the young planetary systems has not been fully included yet in the available simulations of ejections. The ejection rate may be a function of planet orbital separations, planet masses, and overall numbers of planets. Inner planets may be better protected against ejection (Cai et al. 2017), which may signiﬁcantly change the numbers and characteristics of rogue planets. At least for separations >5 au, the simulations by van Elteren et al. (2019) do not show such dependencies in single and multi-planet systems.\\n\\nMaybe most importantly, most of the cluster simulations quoted above focus on the disruptions caused by stellar encounters. The impact of processes internal to the young planetary system, like planet–planet interactions and planet-disk interactions (Baruteau et al. 2014), on the free-ﬂoating population has not been fully explored yet. Planet-planet interactions in particular will cause instabilities, drive up eccentricities, and lead to ejections (Carrera et al. 2019; Li et al. 2021). Planet-planet interactions will especially\\n\\n4\\n\\nPublications of the Astronomical Society of the Paciﬁc, 134:104401 (10pp), 2022 October\\n\\nScholz et al.\\n\\nTable 2 Number of Very Low Mass Objects According to a Log-normal or a Power-law Mass Function\\n\\nFree-ﬂoating planetsb Log-normal MF, 1–15 MJup –range Power-law MF, 1–15 MJup –range Contamination L/T dwarfsc\\n\\nFractiona 1%–5% 0.25% 0.1%–1.4% 11% 4%–31%\\n\\nNGC1333 2–10 1 0–3 22 8–62 1.4\\n\\nIC348 5–25 1 0–7 55 20–155 15\\n\\nNGC2024 8–40 2 0–11 88 32–248 0.2\\n\\nONC 26–130 7 0–36 286 104–806 1.0\\n\\nNotes. a Fraction of objects relative to the total number of stars and brown dwarfs in a cluster (see Table 1). b According to the estimates in Section 3. c According to the estimates in Section 5.\\n\\naffect giant planets; they can act as “catalysts for planetary system disruption” (Cai et al. 2017). So far, however, in simulations attempting to quantify the population of free-ﬂoating planets, the outcomes are largely determined by encounters with stars, partly due to the simpliﬁed setup of planetary systems. For example, in the simulations by van Elteren et al. (2019) the majority of the ejected planets have experienced an encounter with another star within 1Myr prior to ejection (about 70%).\\n\\nIf stars typically produce several giant planets, from which most are ejected by planet–planet interactions, the free-ﬂoating planet population could be signiﬁcantly larger than estimated above (Veras & Raymond 2012; Li et al. 2015). Emsenhuber et al. (2021) discusses giant planet formation as a “self-limiting process”, meaning that more giant planets are likely to lead to more dynamical instabilities within the system, with ejections as one possible outcome. How many giant planets are typically formed at birth is still an open question. Internal processes will produce free-ﬂoating planets irrespective of cluster environ- ment, therefore, the surveys of low or moderate density clusters (NGC1333 and IC348) are particularly relevant to constrain those mechanisms.\\n\\nstellar winds (Krumholz et al. 2012), magnetic ﬁelds (Price & Bate 2007; Wurster et al. 2019) are all expected to alter the shape of the IMF and the star formation rate signiﬁcantly.\\n\\nObservationally, however, the log-normal mass function for local galactic star-forming regions is found to be universal, or near universal (Bastian et al. 2010). The parameters of the log- normal distribution, the critical mass Mc and the width σ, have been empirically robustly determined for a wide range of clusters. Damian et al. (2021) measured the mass function in 8 clusters with a range of environmental parameters, and ﬁnd on average Mc = 0.32 ± 0.02 and σ = 0.47 ± 0.02. All observa- tional surveys to date of galactic young clusters are consistent with Mc = 0.25 − 0.35 and σ = 0.4 − 0.6. This is the range of parameters we adopt here. Instead of the log-normal form, many observational surveys parameterise the mass function as a- . Observed mass functions for a power law dN dM M~ brown dwarfs are consistent with α = 0.7, with values ranging from 0.5 to 0.9, for many clusters (Muzic et al. 2017) and also in the ﬁeld (Kirkpatrick et al. 2021). Again this points to a universal mass function. In the following we therefore assume that all clusters share a consistent underlying mass function for the objects that form from core collapse.\\n\\n4. Planetary-mass Brown Dwarfs\\n\\nIn addition to ejected planets, we expect that young clusters will harbor brown dwarfs with masses comparable to giant planets that are formed by cloud fragmentation and core collapse, i.e., in a way similar to stars. Here we estimate how many such objects we expect to ﬁnd in deep surveys.\\n\\nStar formation simulations predict that the outcome is a population of stars with masses in agreement with a log-normal mass function (Bate 2012), with a cutoff at the opacity limit for fragmentation. A commonly quoted explanation for this is the central limit theorem (Offner et al. 2014). The lower mass limit has not been determined yet empirically, but is expected to be in the range between 1 and 10 MJup (Bate 2012). The statistics of the stellar population predicted by simulations will depend on the speciﬁc formulation and ingredients, e.g., turbulence (Padoan 2004), radiative feedback (Guszejnov et al. 2016),\\n\\nTo determine the empirical scaling of the mass function, we use the sample of 100 members of the cluster NGC1333 with estimated masses from Scholz et al. (2012), covering the domain of brown dwarfs and low-mass stars. The same sample has also been used in Offner et al. (2014) and is shown to be consistent with the low-mass mass function in many other clusters. The sample comprises about half of the known members of NGC1333. Compared to the census by Luhman et al. (2016), which comprises about 200 members, our IMF sample is missing the stars around and above 0.7 Me as well as some objects in the outskirts of the cluster.\\n\\nThe mass function for NGC1333 together with a log-normal parameterisation is shown in Figure 1. The log-normal mass function has been shifted to match the data points for high- mass brown dwarfs and very low mass stars. We also show in Figure 1 the standard power-law mass function, with a slope of\\n\\n5\\n\\nPublications of the Astronomical Society of the Paciﬁc, 134:104401 (10pp), 2022 October\\n\\nScholz et al.\\n\\nThis exercise demonstrates that the population of objects below the Deuterium burning limit that are formed “like stars” from core collapse, and form the continuation of the log-normal mass function, is expected to be very small. In particular, it will be negligible for masses of 1–10 MJup. The numbers of expected objects from core collapse is far below the expected numbers of ejected planets, especially in the 1–10 MJup mass domain. In contrast, the power-law mass function predicts a substantial population of substellar objects down to masses comparable to Jupiter, exceeding the estimates for ejected planets we made in Section 3.\\n\\nFigure 1. Mass function in NGC1333 (black dots), matched by a log-normal mass function (dashed line) with Mc = 0.3 Me and σ = 0.5, and a power-law mass function (dashed–dotted line) with α = 0.7. The shaded region show the variation when the parameters of the mass functions are changed in the plausible range (see text). The red dotted line marks the upper mass limit considered in our estimates.\\n\\nThe analysis shows how valuable the JWST surveys will be compared to existing ground-based observations: The current surveys are typically incomplete below 10 MJup. Given the uncertainties it is difﬁcult to distinguish between an extended power-law and a log-normal mass function. On the other hand, JWST can probe sufﬁciently deep to make that distinction. If the observed mass function of free-ﬂoating objects below the Deuterium burning limit is found to be inconsistent with the log-normal mass function, we would have clear evidence for the presence of free-ﬂoating, ejected planets in the observed clusters.\\n\\n)). This has α = 0.7 (for dN/dM), or Γ = − 0.3 (for dN dlog M( again been shifted to match the data points in NGC1333. For about an order of magnitude in masses, from 0.05 to 0.5 Me, log-normal and power-law parameterisation are in good agreement. They diverge strongly in the planetary mass domain below the Deuterium burning limit.\\n\\nWe note that for the two lowest mass bins in NGC1333 the current data clearly exceed the expected log-normal mass function. A similar excess has been observed in a number of other clusters and associations, (Gagné et al. 2017; Mužić et al. 2019; Miret-Roig et al. 2022), see also Figure 2 in Offner et al. (2014). This could be an indication of a second population, potentially ejected giant planets, but at this stage the data are not sufﬁciently robust to be conﬁdent.\\n\\nWe can now add up the expected number of objects according to the assumed underlying mass function, at ﬁrst for NGC1333. To do that we use the mass functions shown in Figure 1. With a log-normal mass function, as expected for objects forming like stars, we expect 0.5 (between 0 and 3) objects with masses between 1 and 15 MJup—but since the mass function is declining steeply, most of these would be near the top end of the relevant mass range (M > 10MJup). This corresponds to 0.25% of the known cluster population in NGC1333, including stars and brown dwarfs. The power-law mass function on the other hand predicts 21 (7–62) objects in the same mass range, or 11% of the cluster population. More than half of these have masses below 10 MJup.\\n\\nThese results can easily be scaled to other clusters, again assuming the universality of the mass function, and using the number of stars and brown dwarfs in the cluster as scaling factor. In Table 2 we summarize these estimates for the four clusters in question here.\\n\\n5. Contamination by Field Brown Dwarfs\\n\\nEvery cluster survey is sensitive to a range of objects in the foreground and background of the target region. In surveys for young L and T dwarfs, the most problematic type of contamination is from ﬁeld brown dwarfs of the same spectral type. While young L and T dwarfs have characteristic spectra, as well as different colors (Cruz et al. 2009; Almendros-Abad et al. 2022), these distinctions can be difﬁcult to detect at low signal-to-noise ratios. In Figure 2, we show a comparison of spectra for a young and an old template, for spectral type L4, for a resolution comparable to what can be achieved with NIRISS/WFSS or NIRSpec/PRISM. For the young template, we also add a version with 5% noise of the signal (or SNR of 20). The differences in the shape of the spectrum as well as the overall relative ﬂuxes in different bands can still be appreciated at this noise level. If more noise is present, the differences between young and old become difﬁcult to discern. Additionally, in the absence of spectra, more exotic objects in the background, particularly very late giants and redshifted AGNs, could in principle mimic the color signature of young brown dwarfs. We will neglect those exotic background contaminants here because we assume that any substellar candidate will need a spectrum (or a complete spectral energy distribution in the near/mid-infrared) for conﬁrmation (see also Almendros-Abad et al. 2022 for further discussion). We note that in regions with strong extinction (ONC, NGC2024), the cloud acts as a screen and prevents background contamination that way.\\n\\nThis leaves ﬁeld brown dwarfs along the pencil beam toward source of potential\\n\\nthe cluster as\\n\\nthe most\\n\\nimportant\\n\\n6\\n\\nPublications of the Astronomical Society of the Paciﬁc, 134:104401 (10pp), 2022 October\\n\\nScholz et al.\\n\\nFigure 2. Comparison between spectra for young and old brown dwarfs, both at spectral type L4. The young template is from Luhman et al. (2017), the old is DENIS- P J170548.38-051645.7, published as template in Burgasser et al. (2010), obtained from the SpeX Prism Spectral Libraries. All spectra are rebinned to a resolution of 0.01 μm using Spectres (Carnall 2017), and scaled to an arbitrary ﬂux level. On the left side, we show both template spectra at high SNR, on the right side we added Gaussian noise (for a SNR of 20) to the young template.\\n\\ncontamination. To estimate the number of expected contam- inating objects in a survey, we need to know the survey depth in a given band, as well as the survey footprint. Those numbers are summarized in Table 1 for the four cycle 1 projects investigated here, obtained from the project description as currently published (see Section 2). In addition, we obtain the space densities as a function of spectral type from Best et al. (2021). We use the parametric form of the absolute J-band magnitude as a function of spectral type provided by Filippazzo et al. (2015), and convert to absolute K-band magnitude using the (J-K) color versus spectral type relation (Figure 6 in Best et al. 2021).\\n\\nWe choose here to divide the relevant spectral range into four bins, L0-L5, L5-T0, T0-T5, and T5-T9. The space densities for those bins are 2.22, 2.20, 1.12, 4.48 × 10−3 pc−3, with an error of 5%–10% (Best et al. 2021). The absolute magnitudes in the K-band are estimated to be 11.3, 13.0, 14.4, 16.9, with a considerable spread of about 0.5 mag. With those absolute magnitudes, and the survey depth (an apparent magnitude), we can estimate the limiting distance of the survey as a function of spectral type. For NGC2024 and the ONC we adopt the cluster distance as maximum limiting distance, due to the screening effect of the cloud. With the survey footprint, we can then deﬁne a survey volume for each project—a pyramid extending to the limiting distance. Multiplying this volume expected rate of with the contamination.\\n\\nspace densities yields\\n\\nthe\\n\\nResults from this exercise are summarized in Figure 3, for the four surveys and as a function of spectral type. The errorbars in this ﬁgure take into account±0.5mag uncertainty in survey depth, as well as±0.25mag in the absolute magnitudes. All other\\n\\nFigure 3. Number of contaminating ﬁeld dwarfs in the four surveys discussed in the text, as a function of spectral types. Spectral types are numerically deﬁned with L0 being 0.0 and T9 being 19.0. Errorbars take into account ±0.5 mag uncertainty in survey depth and ±0.25 mag error in absolute magnitudes. For NGC2024 and the ONC, we assumed that the cloud acts a screen to eliminate background contamination.\\n\\nlittle uncertainties are negligible. For NGC1333, we expect contamination by ﬁeld dwarfs—in total, the calculation yields 1.4 objects in this ﬁeld (with a range 0.5–4.0), most of them are going to be early L dwarfs. IC348 could in principle ﬁnd considerable numbers of contaminating brown dwarfs. Our calculation yields 15, with a range from 5 to 42. Similar to NGC1333, most are expected to be early L dwarfs. For the ONC the total number is 0.9, with a relatively small errorbar (0.8–1.0), and almost uniformly distributed with spectral type. This is a result of deﬁning the cloud as a screen that eliminates background\\n\\n7\\n\\nPublications of the Astronomical Society of the Paciﬁc, 134:104401 (10pp), 2022 October\\n\\nScholz et al.\\n\\ncontamination, and thus a portion of the bright L dwarfs. For NGC2024 the expected numbers are very small, in total less than 0.2, due to the small ﬁeld of view. Again the contamination rate is ﬂat versus spectral type due to the screening of the cloud. We note that qualitatively similar results were obtained by Caballero et al. (2008) using a different method and a different test case.\\n\\nThese numbers should be considered upper limits, for a variety of reasons. For one, most of the contamination is expected for early L dwarfs, which are visible to larger distances. Since young early L dwarfs are bright compared to the survey depth, distinguishing them from the ﬁeld brown dwarfs with spectroscopy should be straightforward (see Figure 2). The WFSS survey in NGC1333 will immediately give spectral information, and the one in IC348 is associated with a follow-up spectroscopy campaign with NIRSpec. Similar campaigns can be expected for the Orion observations. Second, with spectroscopy included, the surveys will not reach the depth expected for imaging. There will be a number of faint objects at the limits of the imaging surveys for which spectroscopic follow-up is prohibitively expensive in terms of integration time. Adopting a putative spectroscopic depth of K = 22, the number of contaminants drops to 3.8 for IC348, 0.8 for the ONC, and 0.1 for NGC2024. As a reminder, the estimated absolute K-band magnitude for a 1 MJup, 1 Myr free- ﬂoating planet is MK ∼ 14, which translates to K ∼ 21 for Perseus and K ∼ 22 for Orion (at AV = 0). Finally, while the extinction in NGC1333 and IC348 is moderate and will not completely block the background contamination, it will screen out some fainter sources and reduce the overall survey volume. We also note that extinction is going to alter the spectral energy distributions for most young free-ﬂoating planets, which should help distinguishing them from reddening-free ﬁeld brown dwarfs. Taken all that into account, contamination by ﬁeld brown dwarfs is not going to be an issue for these surveys. However, spectroscopy with decent signal-to-noise ratio is going to be needed to conﬁrm individual objects.\\n\\n6. Summary and Discussion\\n\\nIn the preceding sections we have investigated the expected numbers of free-ﬂoating planets in JWST surveys, plus the number of brown dwarfs formed by core collapse, plus the expected number of brown dwarf contaminants. Our estimates are tailored to four speciﬁc JWST cycle 1 programs, but can be translated and scaled easily to other target clusters in future programs. In this section, we ﬁrst summarize our ﬁndings, and then put them into context.\\n\\nIn Section 3 we showed that based on our current understanding and judged by the outcomes of existing simulations, we expect that nearby star-forming clusters within 500pc host between a few to a hundred free-ﬂoating (or rogue) planets that are formed in a disk and are later ejected, with masses above 1MJup. These objects would be ejected either due to encounters with other stars or due to planet–planet interactions. This corresponds to a few percent of the number of stars in the cluster. These estimates come with a number of caveats. In particular, the numbers could be signiﬁcantly higher if stars form typically several giant planets from which most are ejected. Empirical measurements will be key in guiding the development of simulations.\\n\\nWe also show, in Section 4, that the number of planetary- mass brown dwarfs that are likely to be formed by core collapse like stars, is very low, about 0.25% of the number of stars for the mass range 1–15 MJup, and an order of magnitude lower for 1–10 MJup. That means, the mass function in this domain will be very different depending on which population dominates. If ejected planets are very rare and signiﬁcantly less common than estimated above, we expect a steep dropoff following a log-normal mass function below the Deuterium burning limit. If ejected planets are as abundant as simulations predict, we should see a clear deviation from the log-normal mass function below 10 MJup. Or put if observations ﬁnd signiﬁcant numbers of free-ﬂoating objects with masses comparable to Jupiter, those are expected to be rogue planets, and not very low mass brown dwarfs.\\n\\nin simple terms:\\n\\nWhile the space densities of brown dwarfs are only known for the local volume out to distances of 25 pc, we assume here that they are broadly the same when probing larger distances in the foreground of the clusters investigated here. This is a plausible assumption: Recent work based on Gaia data does not show strong variations in stellar density out to distances of 500 pc (Miyachi et al. 2019; Widmark et al. 2022) toward the galactic directions of Perseus and Orion, relevant to this work. the number counts of stars from the Besancon Similarly, Galaxy model (Robin et al. 2003) only change within 10% of the total as a function of galactic sightline for the regions investigated here. the number densities are expected to drop off for distances >100 pc, due to the galactic structure (see Figure 1 in Caballero et al. 2008), again conﬁrming that our estimates should be seen as upper limits.\\n\\nIf anything,\\n\\nOur estimates can be contrasted with existing observational programs that also target this mass range. In 2011, Sumi et al. published a contentious paper claiming that the number of planets that are unbound or on wide orbits exceeds the number of stars (Sumi et al. 2011). This claim triggered a lot of interest, but did not hold up to further scrutiny. Mróz et al. (2017) ﬁnd a 95% upper limit of 0.25 free-ﬂoating/wide orbit Jupiter-mass planets per star, estimated from microlensing detections, superseding earlier estimates from the same method. Some or most of these could be explained by wide (10 au or wider) Jupiter-type planets (Clanton & Gaudi 2017), i.e., the upper free-ﬂoating planets would be smaller. Further limit constraints are expected from the Kepler/K2 microlensing campaign, but have not been published yet (McDonald et al. 2021). In the terminology of our paper, this estimate would include actual ejected planets and low-mass brown dwarfs\\n\\nfor\\n\\n8\\n\\nPublications of the Astronomical Society of the Paciﬁc, 134:104401 (10pp), 2022 October\\n\\nScholz et al.\\n\\nformed by core collapse. Microlensing probes the ﬁeld population; as pointed out in Section 3, we expect a larger number of free-ﬂoating planets per star in the ﬁeld compared to young clusters, due to escape from the clusters and further ejections from planetary systems during stellar evolution. As more stars turn into white dwarfs or neutron stars, some of their planets are going to be released into the ﬁeld population. Over timescales of Gyrs, the number of free-ﬂoating planets per star will therefore increase. Adding our estimates from Sections 3 and 4, we would expect in the range of ∼0.05 free-ﬂoating object (planet or brown dwarf) with Jupiter- or super-Jupiter masses per star, consistent with the limit from microlensing.\\n\\nDirect searches for ultra-low mass free-ﬂoating objects in clusters are currently only sensitive to masses > 5 MJup. These surveys tend to ﬁnd that objects with masses below the Deuterium burning limit account for 1%–14% (Lucas et al. 2006), 2%–5% (Scholz et al. 2012), 2%–7% (Miret-Roig et al. 2022), and ∼10% (Peña Ramírez et al. 2012) of the number of stars and brown dwarfs in the studied clusters. We caution that determining masses for objects around the Deuterium burning limit is a difﬁcult process, and therefore these numbers come with signiﬁcant errorbars. As already indicated in Section 4, these existing estimates exceed what is expected from a log- normal mass function, as pointed out by several groups. Although these surveys are not as deep as the ongoing work with JWST, they are already ﬁnding numbers of planetary mass objects that are comparable to the sum of the numbers for free- ﬂoating planets and very low mass brown dwarfs estimated in this paper. This may indicate that ejected planets are more abundant than expected from the existing simulations, or that existing surveys overestimate the number of objects in this mass domain. Probing the mass ranges below 5 MJup with JWST will certainly provide clariﬁcation on this issue.\\n\\nYoung rogue planets with Jupiter-like masses will have spectral types of L and T. In Section 5 we also estimate the number of brown dwarfs in the foreground and background of the young clusters that may be found among those objects with L and T spectral types. For rich embedded clusters where the cloud shields the background, like the ONC, the contamination by brown dwarfs is orders of magnitude lower than the expected numbers of young objects residing in the clusters with those spectral types. For sparsely populated or low extinction environments, like NGC1333, the ﬁeld brown dwarf contam- ination is still very low, and dominated by early L type objects which are straightforward to identify. Follow-up spectroscopy will be needed for a detailed characterization, but even with low signal-to-noise ratio and resolution, the contamination by ﬁeld brown dwarfs in these surveys will be negligible.\\n\\nWe would like to thank the referee, Richard Parker, for a concise and constructive report on our paper. AS, KM, and RJ are PI and Co-Is of the JWST/GTO program 1202, “The NIRISS Survey for Young Brown Dwarfs and Rogue Planets”.\\n\\nK.M. acknowledges funding by the Science and Technology Foundation of Portugal (FCT), grants No. PTDC/FIS-AST/ 28731/2017 and UIDB/00099/2020. L.Q. contributed to this paper as part of a summer research project, for which funding was kindly provided by Rita Tojeiro and Vivienne Wild. This research has beneﬁtted from the SpeX Prism Spectral Libraries, maintained by Adam Burgasser at http://www.browndwarfs. org/spexprism.\\n\\nORCID iDs\\n\\nhttps://orcid.org/0000-0001-8993-5053\\n\\nAleks Scholz Koraljka Muzic Ray Jayawardhana James Wurster\\n\\nhttps://orcid.org/0000-0002-7989-2595\\n\\nhttps://orcid.org/0000-0001-5349-6853\\n\\nhttps://orcid.org/0000-0003-0688-5332\\n\\nReferences\\n\\nAdams, F. C., Proszkow, E. M., Fatuzzo, M., et al. 2006, ApJ, 641, 504 Almendros-Abad, V., Mužić, K., Moitinho, A., et al. 2022, A&A, 657, A129 Alves de Oliveira, C., Moraux, E., Bouvier, J., et al. 2013, A&A, 549, A123 Baraffe, I., Chabrier, G., Allard, F., et al. 2002, A&A, 382, 563 Baruteau, C., Crida, A., Paardekooper, S. J., et al. 2014, Protostars and Planets\\n\\nVI (Tucson, AZ: Univ. Arizona Press),667\\n\\nBastian, N., Covey, K. R., & Meyer, M. R. 2010, ARA&A, 48, 339 Bate, M. R. 2012, MNRAS, 419, 3115 Berardo, D., & Cumming, A. 2017, ApJL, 846, L17 Best, W. M. J., Liu, M. C., Magnier, E. A., et al. 2021, AJ, 161, 42 Biller, B. A., Liu, M. C., Wahhaj, Z., et al. 2013, ApJ, 777, 160 Bouy, H., Tamura, M., Barrado, D., et al. 2022, A&A, 664, A111 Burgasser, A. J., Cruz, K. L., Cushing, M., et al. 2010, ApJ, 710, 1142 Caballero, J. A., Burgasser, A. J., & Klement, R. 2008, A&A, 488, 181 Cai, M. X., Kouwenhoven, M. B. N., Portegies Zwart, S. F., & Spurzem, R.\\n\\n2017, MNRAS, 470, 4337\\n\\nCarnall, A. C. 2017, arXiv:1705.05165 Carrera, D., Raymond, S. N., & Davies, M. B. 2019, A&A, 629, L7 Cassan, A., Kubas, D., Beaulieu, J. P., et al. 2012, Natur, 481, 167 Clanton, C., & Gaudi, B. S. 2017, ApJ, 834, 46 Cruz, K. L., Kirkpatrick, J. D., & Burgasser, A. J. 2009, AJ, 137, 3345 Da Rio, N., Robberto, M., Hillenbrand, L. A., et al. 2012, ApJ, 748, 14 Daffern-Powell, E. C., Parker, R. J., & Quanz, S. P. 2022, MNRAS, 514, 920 Damian, B., Jose, J., Samal, M. R., et al. 2021, MNRAS, 504, 2557 Emsenhuber, A., Mordasini, C., Burn, R., et al. 2021, A&A, 656, A70 Filippazzo, J. C., Rice, E. L., Faherty, J., et al. 2015, ApJ, 810, 158 Flagg, L., Johns-Krull, C. M., Noﬁ, L., et al. 2019, ApJL, 878, L37 Forgan, D., Parker, R. J., & Rice, K. 2015, MNRAS, 447, 836 Fujii, M. S., & Hori, Y. 2019, A&A, 624, A110 Fulton, B. J., Rosenthal, L. J., Hirsch, L. A., et al. 2021, ApJS, 255, 14 Gagné, J., Faherty, J. K., Mamajek, E. E., et al. 2017, ApJS, 228, 18 Gaudi, B. S., Meyer, M., & Christiansen, J. 2021, ExoFrontiers; Big Questions\\n\\nin Exoplanetary Science (Bristol: IOP Publishing),2\\n\\nGuszejnov, D., Krumholz, M. R., & Hopkins, P. F. 2016, MNRAS, 458, 673 Kirkpatrick, J. D., Gelino, C. R., Faherty, J. K., et al. 2021, ApJS, 253, 7 Krumholz, M. R., Klein, R. I., & McKee, C. F. 2012, ApJ, 754, 71 Kuhn, M. A., Getman, K. V., & Feigelson, E. D. 2015, ApJ, 802, 60 Kuhn, M. A., Hillenbrand, L. A., Sills, A., et al. 2019, ApJ, 870, 32 Levine, J. L., Steinhauer, A., Elston, R. J., et al. 2006, ApJ, 646, 1215 Li, J., Lai, D., Anderson, K. R., & Pu, B. 2021, MNRAS, 501, 1621 Li, Y., Kouwenhoven, M. B. N., Stamatellos, D., et al. 2015, ApJ, 805, 116 Liu, H. G., Zhang, H., & Zhou, J. L. 2013, ApJ, 772, 142 Lodieu, N., Hambly, N. C., & Cross, N. J. G. 2021, MNRAS, 503, 2265 Lucas, P. W., Weights, D. J., Roche, P. F., & Riddick, F. C. 2006, MNRAS,\\n\\n373, L60\\n\\nLuhman, K. L. 2012, ARA&A, 50, 65 Luhman, K. L., Esplin, T. L., & Loutrel, N. P. 2016, ApJ, 827, 52\\n\\n9\\n\\nPublications of the Astronomical Society of the Paciﬁc, 134:104401 (10pp), 2022 October\\n\\nScholz et al.\\n\\nLuhman, K. L., Mamajek, E. E., Shukla, S. J., et al. 2017, AJ, 153, 46 Marleau, G. D., & Cumming, A. 2014, MNRAS, 437, 1378 Marleau, G. D., Mordasini, C., & Kuiper, R. 2019, ApJ, 881, 144 McDonald, I., Kerins, E., Poleski, R., et al. 2021, MNRAS, 505, 5584 Miret-Roig, N., Bouy, H., Raymond, S. N., et al. 2022, NatAs, 6, 89 Miyachi, Y., Sakai, N., Kawata, D., et al. 2019, ApJ, 882, 48 Mróz, P., Udalski, A., Skowron, J., et al. 2017, Natur, 548, 183 Mužić, K., Scholz, A., Peña Ramírez, K., et al. 2019, ApJ, 881, 79 Muzic, K., Schodel, R., Scholz, A., et al. 2017, MNRAS, 471, 3699 Offner, S. S. R., Clark, P. C., Hennebelle, P., et al. 2014, Protostars and Planets\\n\\nSpiegel, D. S., & Burrows, A. 2012, ApJ, 745, 174 Sumi, T., Kamiya, K., Bennett, D. P., et al. 2011, Natur, 473, 349 van Elteren, A., Portegies Zwart, S., Pelupessy, I., et al. 2019, A&A,\\n\\n624, A120\\n\\nvan Terwisga, S. E., van Dishoeck, E. F., Mann, R. K., et al. 2020, A&A,\\n\\n640, A27\\n\\nVeras, D., & Moeckel, N. 2012, MNRAS, 425, 680 Veras, D., & Raymond, S. N. 2012, MNRAS, 421, L117 Veras, D., Wyatt, M. C., Mustill, A. J., Bonsor, A., & Eldridge, J. J. 2011,\\n\\nVI (Tucson, AZ: Univ. Arizona Press),53 Padoan, P., & Nordlund, Å. 2004, ApJ, 617, 559 Parker, R. J. 2020, RSOS, 7, 201271 Parker, R. J., & Alves de Oliveira, C. 2017, MNRAS, 468, 4340 Parker, R. J., & Quanz, S. P. 2012, MNRAS, 419, 2448 Peña Ramírez, K., Béjar, V. J. S., Zapatero Osorio, M. R., et al. 2012, ApJ,\\n\\nMNRAS, 417, 2104\\n\\nVigan, A., Bonavita, M., Biller, B., et al. 2017, A&A, 603, A3 Vigan, A., Fontanive, C., Meyer, M., et al. 2021, A&A, 651, A72 Wang, Y. H., Perna, R., & Leigh, N. W. C. 2020, MNRAS, 496, 1453 Widmark, A., Widrow, L. M., & Naik, A. 2022, arXiv:2207.03492 Willott, C. J., Doyon, R., Albert, L., et al. 2022, PASP, 134, 025002 Winter, A. J., Haworth, T. J., Coleman, G. A. L., et al. 2022, MNRAS,\\n\\n754, 30\\n\\n515, 4287\\n\\nPontoppidan, K., Blome, C., Braun, H., et al. 2022, ApJ, 936, L14 Price, D. J., & Bate, M. R. 2007, MNRAS, 377, 77 Rigby, J., Perrin, M., McElwain, M., et al. 2022, arXiv:2207.05632 Robin, A. C., Reylé, C., Derrière, S., et al. 2003, A&A, 409, 523 Scholz, A., Jayawardhana, R., Muzic, K., et al. 2012, ApJ, 756, 24 Smith, K. W., & Bonnell, I. A. 2001, MNRAS, 322, L1\\n\\nWittenmyer, R. A., Wang, S., Horner, J., et al. 2020, MNRAS, 492, 377 Wolthoff, V., Reffert, S., Quirrenbach, A., et al. 2022, A&A, 661, A63 Wright, J. T., Marcy, G. W., Howard, A. W., et al. 2012, ApJ, 753, 160 Wurster, J., Bate, M. R., & Price, D. J. 2019, MNRAS, 489, 1719 Zheng, X., Kouwenhoven, M. B. N., & Wang, L. 2015, MNRAS,\\n\\n453, 2759\\n\\n10'"
      ]
     },
     "metadata": {},
     "output_type": "display_data"
    }
   ],
   "source": [
    "Markdown(data[0].page_content)"
   ]
  },
  {
   "cell_type": "markdown",
   "metadata": {},
   "source": [
    "Vector Embeddings"
   ]
  },
  {
   "cell_type": "code",
   "execution_count": 8,
   "metadata": {},
   "outputs": [
    {
     "name": "stdout",
     "output_type": "stream",
     "text": [
      "Note: you may need to restart the kernel to use updated packages.\n"
     ]
    },
    {
     "name": "stderr",
     "output_type": "stream",
     "text": [
      "WARNING: Skipping chromadb as it is not installed.\n"
     ]
    },
    {
     "name": "stdout",
     "output_type": "stream",
     "text": [
      "Found existing installation: protobuf 5.29.3\n",
      "Uninstalling protobuf-5.29.3:\n",
      "  Successfully uninstalled protobuf-5.29.3\n",
      "Note: you may need to restart the kernel to use updated packages.\n",
      "Collecting protobuf\n",
      "  Using cached protobuf-5.29.3-cp310-abi3-win_amd64.whl.metadata (592 bytes)\n",
      "Using cached protobuf-5.29.3-cp310-abi3-win_amd64.whl (434 kB)\n",
      "Installing collected packages: protobuf\n",
      "Successfully installed protobuf-5.29.3\n",
      "Note: you may need to restart the kernel to use updated packages.\n",
      "Note: you may need to restart the kernel to use updated packages.\n"
     ]
    },
    {
     "name": "stderr",
     "output_type": "stream",
     "text": [
      "ERROR: Invalid requirement: '#': Expected package name at the start of dependency specifier\n",
      "    #\n",
      "    ^\n"
     ]
    },
    {
     "name": "stdout",
     "output_type": "stream",
     "text": [
      "Requirement already satisfied: langchain-ollama in c:\\users\\user\\projects\\.venv\\lib\\site-packages (0.2.3)\n",
      "Requirement already satisfied: langchain-core<0.4.0,>=0.3.33 in c:\\users\\user\\projects\\.venv\\lib\\site-packages (from langchain-ollama) (0.3.39)\n",
      "Requirement already satisfied: ollama<1,>=0.4.4 in c:\\users\\user\\projects\\.venv\\lib\\site-packages (from langchain-ollama) (0.4.7)\n",
      "Requirement already satisfied: langsmith<0.4,>=0.1.125 in c:\\users\\user\\projects\\.venv\\lib\\site-packages (from langchain-core<0.4.0,>=0.3.33->langchain-ollama) (0.3.11)\n",
      "Requirement already satisfied: tenacity!=8.4.0,<10.0.0,>=8.1.0 in c:\\users\\user\\projects\\.venv\\lib\\site-packages (from langchain-core<0.4.0,>=0.3.33->langchain-ollama) (9.0.0)\n",
      "Requirement already satisfied: jsonpatch<2.0,>=1.33 in c:\\users\\user\\projects\\.venv\\lib\\site-packages (from langchain-core<0.4.0,>=0.3.33->langchain-ollama) (1.33)\n",
      "Requirement already satisfied: PyYAML>=5.3 in c:\\users\\user\\projects\\.venv\\lib\\site-packages (from langchain-core<0.4.0,>=0.3.33->langchain-ollama) (6.0.2)\n",
      "Requirement already satisfied: packaging<25,>=23.2 in c:\\users\\user\\projects\\.venv\\lib\\site-packages (from langchain-core<0.4.0,>=0.3.33->langchain-ollama) (24.2)\n",
      "Requirement already satisfied: typing-extensions>=4.7 in c:\\users\\user\\projects\\.venv\\lib\\site-packages (from langchain-core<0.4.0,>=0.3.33->langchain-ollama) (4.12.2)\n",
      "Requirement already satisfied: pydantic<3.0.0,>=2.5.2 in c:\\users\\user\\projects\\.venv\\lib\\site-packages (from langchain-core<0.4.0,>=0.3.33->langchain-ollama) (2.10.6)\n",
      "Requirement already satisfied: httpx<0.29,>=0.27 in c:\\users\\user\\projects\\.venv\\lib\\site-packages (from ollama<1,>=0.4.4->langchain-ollama) (0.28.1)\n",
      "Requirement already satisfied: anyio in c:\\users\\user\\projects\\.venv\\lib\\site-packages (from httpx<0.29,>=0.27->ollama<1,>=0.4.4->langchain-ollama) (4.8.0)\n",
      "Requirement already satisfied: certifi in c:\\users\\user\\projects\\.venv\\lib\\site-packages (from httpx<0.29,>=0.27->ollama<1,>=0.4.4->langchain-ollama) (2025.1.31)\n",
      "Requirement already satisfied: httpcore==1.* in c:\\users\\user\\projects\\.venv\\lib\\site-packages (from httpx<0.29,>=0.27->ollama<1,>=0.4.4->langchain-ollama) (1.0.7)\n",
      "Requirement already satisfied: idna in c:\\users\\user\\projects\\.venv\\lib\\site-packages (from httpx<0.29,>=0.27->ollama<1,>=0.4.4->langchain-ollama) (3.10)\n",
      "Requirement already satisfied: h11<0.15,>=0.13 in c:\\users\\user\\projects\\.venv\\lib\\site-packages (from httpcore==1.*->httpx<0.29,>=0.27->ollama<1,>=0.4.4->langchain-ollama) (0.14.0)\n",
      "Requirement already satisfied: jsonpointer>=1.9 in c:\\users\\user\\projects\\.venv\\lib\\site-packages (from jsonpatch<2.0,>=1.33->langchain-core<0.4.0,>=0.3.33->langchain-ollama) (3.0.0)\n",
      "Requirement already satisfied: orjson<4.0.0,>=3.9.14 in c:\\users\\user\\projects\\.venv\\lib\\site-packages (from langsmith<0.4,>=0.1.125->langchain-core<0.4.0,>=0.3.33->langchain-ollama) (3.10.15)\n",
      "Requirement already satisfied: requests<3,>=2 in c:\\users\\user\\projects\\.venv\\lib\\site-packages (from langsmith<0.4,>=0.1.125->langchain-core<0.4.0,>=0.3.33->langchain-ollama) (2.32.3)\n",
      "Requirement already satisfied: requests-toolbelt<2.0.0,>=1.0.0 in c:\\users\\user\\projects\\.venv\\lib\\site-packages (from langsmith<0.4,>=0.1.125->langchain-core<0.4.0,>=0.3.33->langchain-ollama) (1.0.0)\n",
      "Requirement already satisfied: zstandard<0.24.0,>=0.23.0 in c:\\users\\user\\projects\\.venv\\lib\\site-packages (from langsmith<0.4,>=0.1.125->langchain-core<0.4.0,>=0.3.33->langchain-ollama) (0.23.0)\n",
      "Requirement already satisfied: annotated-types>=0.6.0 in c:\\users\\user\\projects\\.venv\\lib\\site-packages (from pydantic<3.0.0,>=2.5.2->langchain-core<0.4.0,>=0.3.33->langchain-ollama) (0.7.0)\n",
      "Requirement already satisfied: pydantic-core==2.27.2 in c:\\users\\user\\projects\\.venv\\lib\\site-packages (from pydantic<3.0.0,>=2.5.2->langchain-core<0.4.0,>=0.3.33->langchain-ollama) (2.27.2)\n",
      "Requirement already satisfied: charset-normalizer<4,>=2 in c:\\users\\user\\projects\\.venv\\lib\\site-packages (from requests<3,>=2->langsmith<0.4,>=0.1.125->langchain-core<0.4.0,>=0.3.33->langchain-ollama) (3.4.1)\n",
      "Requirement already satisfied: urllib3<3,>=1.21.1 in c:\\users\\user\\projects\\.venv\\lib\\site-packages (from requests<3,>=2->langsmith<0.4,>=0.1.125->langchain-core<0.4.0,>=0.3.33->langchain-ollama) (2.3.0)\n",
      "Requirement already satisfied: exceptiongroup>=1.0.2 in c:\\users\\user\\projects\\.venv\\lib\\site-packages (from anyio->httpx<0.29,>=0.27->ollama<1,>=0.4.4->langchain-ollama) (1.2.2)\n",
      "Requirement already satisfied: sniffio>=1.1 in c:\\users\\user\\projects\\.venv\\lib\\site-packages (from anyio->httpx<0.29,>=0.27->ollama<1,>=0.4.4->langchain-ollama) (1.3.1)\n",
      "Note: you may need to restart the kernel to use updated packages.\n"
     ]
    }
   ],
   "source": [
    "# 1. First clean up any existing ChromaDB installations\n",
    "%pip uninstall -y chromadb\n",
    "%pip uninstall -y protobuf\n",
    "\n",
    "# 2. Install specific versions known to work together\n",
    "%pip install protobuf\n",
    "%pip install chromadb  # Using a stable older version\n",
    "%pip install langchain-ollama\n",
    "\n",
    "# 3. Set the environment variable\n",
    "import os\n",
    "os.environ[\"PROTOCOL_BUFFERS_PYTHON_IMPLEMENTATION\"] = \"python\"\n",
    "\n",
    "# 4. Now reimport with the new versions\n",
    "from langchain_ollama import OllamaEmbeddings\n",
    "from langchain_text_splitters import RecursiveCharacterTextSplitter\n",
    "from langchain_community.vectorstores import Chroma"
   ]
  },
  {
   "cell_type": "code",
   "execution_count": 6,
   "metadata": {},
   "outputs": [],
   "source": [
    "text_splitter = RecursiveCharacterTextSplitter(chunk_size=7500, chunk_overlap=100)\n",
    "chunks = text_splitter.split_documents(data)"
   ]
  },
  {
   "cell_type": "code",
   "execution_count": 10,
   "metadata": {},
   "outputs": [
    {
     "name": "stdout",
     "output_type": "stream",
     "text": [
      "Collecting chromadbNote: you may need to restart the kernel to use updated packages.\n",
      "\n",
      "  Downloading chromadb-0.6.3-py3-none-any.whl.metadata (6.8 kB)\n",
      "Collecting build>=1.0.3 (from chromadb)\n",
      "  Downloading build-1.2.2.post1-py3-none-any.whl.metadata (6.5 kB)\n",
      "Requirement already satisfied: pydantic>=1.9 in c:\\users\\user\\projects\\.venv\\lib\\site-packages (from chromadb) (2.10.6)\n",
      "Collecting chroma-hnswlib==0.7.6 (from chromadb)\n",
      "  Downloading chroma_hnswlib-0.7.6-cp310-cp310-win_amd64.whl.metadata (262 bytes)\n",
      "Collecting fastapi>=0.95.2 (from chromadb)\n",
      "  Downloading fastapi-0.115.8-py3-none-any.whl.metadata (27 kB)\n",
      "Collecting uvicorn>=0.18.3 (from uvicorn[standard]>=0.18.3->chromadb)\n",
      "  Downloading uvicorn-0.34.0-py3-none-any.whl.metadata (6.5 kB)\n",
      "Requirement already satisfied: numpy>=1.22.5 in c:\\users\\user\\projects\\.venv\\lib\\site-packages (from chromadb) (1.26.4)\n",
      "Collecting posthog>=2.4.0 (from chromadb)\n",
      "  Downloading posthog-3.15.1-py2.py3-none-any.whl.metadata (2.9 kB)\n",
      "Requirement already satisfied: typing_extensions>=4.5.0 in c:\\users\\user\\projects\\.venv\\lib\\site-packages (from chromadb) (4.12.2)\n",
      "Requirement already satisfied: onnxruntime>=1.14.1 in c:\\users\\user\\projects\\.venv\\lib\\site-packages (from chromadb) (1.20.1)\n",
      "Collecting opentelemetry-api>=1.2.0 (from chromadb)\n",
      "  Downloading opentelemetry_api-1.30.0-py3-none-any.whl.metadata (1.6 kB)\n",
      "Collecting opentelemetry-exporter-otlp-proto-grpc>=1.2.0 (from chromadb)\n",
      "  Downloading opentelemetry_exporter_otlp_proto_grpc-1.30.0-py3-none-any.whl.metadata (2.4 kB)\n",
      "Collecting opentelemetry-instrumentation-fastapi>=0.41b0 (from chromadb)\n",
      "  Downloading opentelemetry_instrumentation_fastapi-0.51b0-py3-none-any.whl.metadata (2.2 kB)\n",
      "Collecting opentelemetry-sdk>=1.2.0 (from chromadb)\n",
      "  Downloading opentelemetry_sdk-1.30.0-py3-none-any.whl.metadata (1.6 kB)\n",
      "Requirement already satisfied: tokenizers>=0.13.2 in c:\\users\\user\\projects\\.venv\\lib\\site-packages (from chromadb) (0.21.0)\n",
      "Collecting pypika>=0.48.9 (from chromadb)\n",
      "  Downloading PyPika-0.48.9.tar.gz (67 kB)\n",
      "  Installing build dependencies: started\n",
      "  Installing build dependencies: finished with status 'done'\n",
      "  Getting requirements to build wheel: started\n",
      "  Getting requirements to build wheel: finished with status 'done'\n",
      "  Preparing metadata (pyproject.toml): started\n",
      "  Preparing metadata (pyproject.toml): finished with status 'done'\n",
      "Requirement already satisfied: tqdm>=4.65.0 in c:\\users\\user\\projects\\.venv\\lib\\site-packages (from chromadb) (4.67.1)\n",
      "Collecting overrides>=7.3.1 (from chromadb)\n",
      "  Downloading overrides-7.7.0-py3-none-any.whl.metadata (5.8 kB)\n",
      "Collecting importlib-resources (from chromadb)\n",
      "  Downloading importlib_resources-6.5.2-py3-none-any.whl.metadata (3.9 kB)\n",
      "Requirement already satisfied: grpcio>=1.58.0 in c:\\users\\user\\projects\\.venv\\lib\\site-packages (from chromadb) (1.71.0rc2)\n",
      "Collecting bcrypt>=4.0.1 (from chromadb)\n",
      "  Downloading bcrypt-4.2.1-cp39-abi3-win_amd64.whl.metadata (10 kB)\n",
      "Collecting typer>=0.9.0 (from chromadb)\n",
      "  Downloading typer-0.15.1-py3-none-any.whl.metadata (15 kB)\n",
      "Collecting kubernetes>=28.1.0 (from chromadb)\n",
      "  Downloading kubernetes-32.0.1-py2.py3-none-any.whl.metadata (1.7 kB)\n",
      "Requirement already satisfied: tenacity>=8.2.3 in c:\\users\\user\\projects\\.venv\\lib\\site-packages (from chromadb) (9.0.0)\n",
      "Requirement already satisfied: PyYAML>=6.0.0 in c:\\users\\user\\projects\\.venv\\lib\\site-packages (from chromadb) (6.0.2)\n",
      "Collecting mmh3>=4.0.1 (from chromadb)\n",
      "  Downloading mmh3-5.1.0-cp310-cp310-win_amd64.whl.metadata (16 kB)\n",
      "Requirement already satisfied: orjson>=3.9.12 in c:\\users\\user\\projects\\.venv\\lib\\site-packages (from chromadb) (3.10.15)\n",
      "Requirement already satisfied: httpx>=0.27.0 in c:\\users\\user\\projects\\.venv\\lib\\site-packages (from chromadb) (0.28.1)\n",
      "Collecting rich>=10.11.0 (from chromadb)\n",
      "  Downloading rich-13.9.4-py3-none-any.whl.metadata (18 kB)\n",
      "Requirement already satisfied: packaging>=19.1 in c:\\users\\user\\projects\\.venv\\lib\\site-packages (from build>=1.0.3->chromadb) (24.2)\n",
      "Collecting pyproject_hooks (from build>=1.0.3->chromadb)\n",
      "  Downloading pyproject_hooks-1.2.0-py3-none-any.whl.metadata (1.3 kB)\n",
      "Requirement already satisfied: colorama in c:\\users\\user\\projects\\.venv\\lib\\site-packages (from build>=1.0.3->chromadb) (0.4.6)\n",
      "Collecting importlib-metadata>=4.6 (from build>=1.0.3->chromadb)\n",
      "  Downloading importlib_metadata-8.6.1-py3-none-any.whl.metadata (4.7 kB)\n",
      "Collecting tomli>=1.1.0 (from build>=1.0.3->chromadb)\n",
      "  Downloading tomli-2.2.1-py3-none-any.whl.metadata (10 kB)\n",
      "Collecting starlette<0.46.0,>=0.40.0 (from fastapi>=0.95.2->chromadb)\n",
      "  Downloading starlette-0.45.3-py3-none-any.whl.metadata (6.3 kB)\n",
      "Requirement already satisfied: anyio in c:\\users\\user\\projects\\.venv\\lib\\site-packages (from httpx>=0.27.0->chromadb) (4.8.0)\n",
      "Requirement already satisfied: certifi in c:\\users\\user\\projects\\.venv\\lib\\site-packages (from httpx>=0.27.0->chromadb) (2025.1.31)\n",
      "Requirement already satisfied: httpcore==1.* in c:\\users\\user\\projects\\.venv\\lib\\site-packages (from httpx>=0.27.0->chromadb) (1.0.7)\n",
      "Requirement already satisfied: idna in c:\\users\\user\\projects\\.venv\\lib\\site-packages (from httpx>=0.27.0->chromadb) (3.10)\n",
      "Requirement already satisfied: h11<0.15,>=0.13 in c:\\users\\user\\projects\\.venv\\lib\\site-packages (from httpcore==1.*->httpx>=0.27.0->chromadb) (0.14.0)\n",
      "Requirement already satisfied: six>=1.9.0 in c:\\users\\user\\projects\\.venv\\lib\\site-packages (from kubernetes>=28.1.0->chromadb) (1.17.0)\n",
      "Requirement already satisfied: python-dateutil>=2.5.3 in c:\\users\\user\\projects\\.venv\\lib\\site-packages (from kubernetes>=28.1.0->chromadb) (2.9.0.post0)\n",
      "Requirement already satisfied: google-auth>=1.0.1 in c:\\users\\user\\projects\\.venv\\lib\\site-packages (from kubernetes>=28.1.0->chromadb) (2.38.0)\n",
      "Collecting websocket-client!=0.40.0,!=0.41.*,!=0.42.*,>=0.32.0 (from kubernetes>=28.1.0->chromadb)\n",
      "  Downloading websocket_client-1.8.0-py3-none-any.whl.metadata (8.0 kB)\n",
      "Requirement already satisfied: requests in c:\\users\\user\\projects\\.venv\\lib\\site-packages (from kubernetes>=28.1.0->chromadb) (2.32.3)\n",
      "Collecting requests-oauthlib (from kubernetes>=28.1.0->chromadb)\n",
      "  Downloading requests_oauthlib-2.0.0-py2.py3-none-any.whl.metadata (11 kB)\n",
      "Collecting oauthlib>=3.2.2 (from kubernetes>=28.1.0->chromadb)\n",
      "  Downloading oauthlib-3.2.2-py3-none-any.whl.metadata (7.5 kB)\n",
      "Requirement already satisfied: urllib3>=1.24.2 in c:\\users\\user\\projects\\.venv\\lib\\site-packages (from kubernetes>=28.1.0->chromadb) (2.3.0)\n",
      "Collecting durationpy>=0.7 (from kubernetes>=28.1.0->chromadb)\n",
      "  Downloading durationpy-0.9-py3-none-any.whl.metadata (338 bytes)\n",
      "Requirement already satisfied: coloredlogs in c:\\users\\user\\projects\\.venv\\lib\\site-packages (from onnxruntime>=1.14.1->chromadb) (15.0.1)\n",
      "Requirement already satisfied: flatbuffers in c:\\users\\user\\projects\\.venv\\lib\\site-packages (from onnxruntime>=1.14.1->chromadb) (25.2.10)\n",
      "Requirement already satisfied: protobuf in c:\\users\\user\\projects\\.venv\\lib\\site-packages (from onnxruntime>=1.14.1->chromadb) (5.29.3)\n",
      "Requirement already satisfied: sympy in c:\\users\\user\\projects\\.venv\\lib\\site-packages (from onnxruntime>=1.14.1->chromadb) (1.13.1)\n",
      "Requirement already satisfied: deprecated>=1.2.6 in c:\\users\\user\\projects\\.venv\\lib\\site-packages (from opentelemetry-api>=1.2.0->chromadb) (1.2.18)\n",
      "Collecting importlib-metadata>=4.6 (from build>=1.0.3->chromadb)\n",
      "  Downloading importlib_metadata-8.5.0-py3-none-any.whl.metadata (4.8 kB)\n",
      "Requirement already satisfied: googleapis-common-protos~=1.52 in c:\\users\\user\\projects\\.venv\\lib\\site-packages (from opentelemetry-exporter-otlp-proto-grpc>=1.2.0->chromadb) (1.68.0)\n",
      "Collecting opentelemetry-exporter-otlp-proto-common==1.30.0 (from opentelemetry-exporter-otlp-proto-grpc>=1.2.0->chromadb)\n",
      "  Downloading opentelemetry_exporter_otlp_proto_common-1.30.0-py3-none-any.whl.metadata (1.9 kB)\n",
      "Collecting opentelemetry-proto==1.30.0 (from opentelemetry-exporter-otlp-proto-grpc>=1.2.0->chromadb)\n",
      "  Downloading opentelemetry_proto-1.30.0-py3-none-any.whl.metadata (2.4 kB)\n",
      "Collecting opentelemetry-instrumentation-asgi==0.51b0 (from opentelemetry-instrumentation-fastapi>=0.41b0->chromadb)\n",
      "  Downloading opentelemetry_instrumentation_asgi-0.51b0-py3-none-any.whl.metadata (2.1 kB)\n",
      "Collecting opentelemetry-instrumentation==0.51b0 (from opentelemetry-instrumentation-fastapi>=0.41b0->chromadb)\n",
      "  Downloading opentelemetry_instrumentation-0.51b0-py3-none-any.whl.metadata (6.3 kB)\n",
      "Collecting opentelemetry-semantic-conventions==0.51b0 (from opentelemetry-instrumentation-fastapi>=0.41b0->chromadb)\n",
      "  Downloading opentelemetry_semantic_conventions-0.51b0-py3-none-any.whl.metadata (2.5 kB)\n",
      "Collecting opentelemetry-util-http==0.51b0 (from opentelemetry-instrumentation-fastapi>=0.41b0->chromadb)\n",
      "  Downloading opentelemetry_util_http-0.51b0-py3-none-any.whl.metadata (2.6 kB)\n",
      "Requirement already satisfied: wrapt<2.0.0,>=1.0.0 in c:\\users\\user\\projects\\.venv\\lib\\site-packages (from opentelemetry-instrumentation==0.51b0->opentelemetry-instrumentation-fastapi>=0.41b0->chromadb) (1.17.2)\n",
      "Collecting asgiref~=3.0 (from opentelemetry-instrumentation-asgi==0.51b0->opentelemetry-instrumentation-fastapi>=0.41b0->chromadb)\n",
      "  Downloading asgiref-3.8.1-py3-none-any.whl.metadata (9.3 kB)\n",
      "Collecting monotonic>=1.5 (from posthog>=2.4.0->chromadb)\n",
      "  Downloading monotonic-1.6-py2.py3-none-any.whl.metadata (1.5 kB)\n",
      "Requirement already satisfied: backoff>=1.10.0 in c:\\users\\user\\projects\\.venv\\lib\\site-packages (from posthog>=2.4.0->chromadb) (2.2.1)\n",
      "Requirement already satisfied: annotated-types>=0.6.0 in c:\\users\\user\\projects\\.venv\\lib\\site-packages (from pydantic>=1.9->chromadb) (0.7.0)\n",
      "Requirement already satisfied: pydantic-core==2.27.2 in c:\\users\\user\\projects\\.venv\\lib\\site-packages (from pydantic>=1.9->chromadb) (2.27.2)\n",
      "Collecting markdown-it-py>=2.2.0 (from rich>=10.11.0->chromadb)\n",
      "  Downloading markdown_it_py-3.0.0-py3-none-any.whl.metadata (6.9 kB)\n",
      "Requirement already satisfied: pygments<3.0.0,>=2.13.0 in c:\\users\\user\\projects\\.venv\\lib\\site-packages (from rich>=10.11.0->chromadb) (2.19.1)\n",
      "Requirement already satisfied: huggingface-hub<1.0,>=0.16.4 in c:\\users\\user\\projects\\.venv\\lib\\site-packages (from tokenizers>=0.13.2->chromadb) (0.29.1)\n",
      "Requirement already satisfied: click>=8.0.0 in c:\\users\\user\\projects\\.venv\\lib\\site-packages (from typer>=0.9.0->chromadb) (8.1.8)\n",
      "Collecting shellingham>=1.3.0 (from typer>=0.9.0->chromadb)\n",
      "  Downloading shellingham-1.5.4-py2.py3-none-any.whl.metadata (3.5 kB)\n",
      "Collecting httptools>=0.6.3 (from uvicorn[standard]>=0.18.3->chromadb)\n",
      "  Downloading httptools-0.6.4-cp310-cp310-win_amd64.whl.metadata (3.7 kB)\n",
      "Requirement already satisfied: python-dotenv>=0.13 in c:\\users\\user\\projects\\.venv\\lib\\site-packages (from uvicorn[standard]>=0.18.3->chromadb) (1.0.1)\n",
      "Collecting watchfiles>=0.13 (from uvicorn[standard]>=0.18.3->chromadb)\n",
      "  Downloading watchfiles-1.0.4-cp310-cp310-win_amd64.whl.metadata (5.0 kB)\n",
      "Collecting websockets>=10.4 (from uvicorn[standard]>=0.18.3->chromadb)\n",
      "  Downloading websockets-15.0-cp310-cp310-win_amd64.whl.metadata (7.0 kB)\n",
      "Requirement already satisfied: cachetools<6.0,>=2.0.0 in c:\\users\\user\\projects\\.venv\\lib\\site-packages (from google-auth>=1.0.1->kubernetes>=28.1.0->chromadb) (5.5.2)\n",
      "Requirement already satisfied: pyasn1-modules>=0.2.1 in c:\\users\\user\\projects\\.venv\\lib\\site-packages (from google-auth>=1.0.1->kubernetes>=28.1.0->chromadb) (0.4.1)\n",
      "Requirement already satisfied: rsa<5,>=3.1.4 in c:\\users\\user\\projects\\.venv\\lib\\site-packages (from google-auth>=1.0.1->kubernetes>=28.1.0->chromadb) (4.9)\n",
      "Requirement already satisfied: filelock in c:\\users\\user\\projects\\.venv\\lib\\site-packages (from huggingface-hub<1.0,>=0.16.4->tokenizers>=0.13.2->chromadb) (3.17.0)\n",
      "Requirement already satisfied: fsspec>=2023.5.0 in c:\\users\\user\\projects\\.venv\\lib\\site-packages (from huggingface-hub<1.0,>=0.16.4->tokenizers>=0.13.2->chromadb) (2025.2.0)\n",
      "Collecting zipp>=3.20 (from importlib-metadata>=4.6->build>=1.0.3->chromadb)\n",
      "  Downloading zipp-3.21.0-py3-none-any.whl.metadata (3.7 kB)\n",
      "Collecting mdurl~=0.1 (from markdown-it-py>=2.2.0->rich>=10.11.0->chromadb)\n",
      "  Downloading mdurl-0.1.2-py3-none-any.whl.metadata (1.6 kB)\n",
      "Requirement already satisfied: charset-normalizer<4,>=2 in c:\\users\\user\\projects\\.venv\\lib\\site-packages (from requests->kubernetes>=28.1.0->chromadb) (3.4.1)\n",
      "Requirement already satisfied: exceptiongroup>=1.0.2 in c:\\users\\user\\projects\\.venv\\lib\\site-packages (from anyio->httpx>=0.27.0->chromadb) (1.2.2)\n",
      "Requirement already satisfied: sniffio>=1.1 in c:\\users\\user\\projects\\.venv\\lib\\site-packages (from anyio->httpx>=0.27.0->chromadb) (1.3.1)\n",
      "Requirement already satisfied: humanfriendly>=9.1 in c:\\users\\user\\projects\\.venv\\lib\\site-packages (from coloredlogs->onnxruntime>=1.14.1->chromadb) (10.0)\n",
      "Requirement already satisfied: mpmath<1.4,>=1.1.0 in c:\\users\\user\\projects\\.venv\\lib\\site-packages (from sympy->onnxruntime>=1.14.1->chromadb) (1.3.0)\n",
      "Requirement already satisfied: pyreadline3 in c:\\users\\user\\projects\\.venv\\lib\\site-packages (from humanfriendly>=9.1->coloredlogs->onnxruntime>=1.14.1->chromadb) (3.5.4)\n",
      "Requirement already satisfied: pyasn1<0.7.0,>=0.4.6 in c:\\users\\user\\projects\\.venv\\lib\\site-packages (from pyasn1-modules>=0.2.1->google-auth>=1.0.1->kubernetes>=28.1.0->chromadb) (0.6.1)\n",
      "Downloading chromadb-0.6.3-py3-none-any.whl (611 kB)\n",
      "   ---------------------------------------- 0.0/611.1 kB ? eta -:--:--\n",
      "   ---------------------------------- ----- 524.3/611.1 kB 4.2 MB/s eta 0:00:01\n",
      "   ---------------------------------------- 611.1/611.1 kB 2.8 MB/s eta 0:00:00\n",
      "Downloading chroma_hnswlib-0.7.6-cp310-cp310-win_amd64.whl (150 kB)\n",
      "Downloading bcrypt-4.2.1-cp39-abi3-win_amd64.whl (153 kB)\n",
      "Downloading build-1.2.2.post1-py3-none-any.whl (22 kB)\n",
      "Downloading fastapi-0.115.8-py3-none-any.whl (94 kB)\n",
      "Downloading kubernetes-32.0.1-py2.py3-none-any.whl (2.0 MB)\n",
      "   ---------------------------------------- 0.0/2.0 MB ? eta -:--:--\n",
      "   ---------- ----------------------------- 0.5/2.0 MB 2.8 MB/s eta 0:00:01\n",
      "   --------------------- ------------------ 1.0/2.0 MB 2.8 MB/s eta 0:00:01\n",
      "   ------------------------------------ --- 1.8/2.0 MB 3.1 MB/s eta 0:00:01\n",
      "   ---------------------------------------- 2.0/2.0 MB 2.8 MB/s eta 0:00:00\n",
      "Downloading mmh3-5.1.0-cp310-cp310-win_amd64.whl (41 kB)\n",
      "Downloading opentelemetry_api-1.30.0-py3-none-any.whl (64 kB)\n",
      "Downloading opentelemetry_exporter_otlp_proto_grpc-1.30.0-py3-none-any.whl (18 kB)\n",
      "Downloading opentelemetry_exporter_otlp_proto_common-1.30.0-py3-none-any.whl (18 kB)\n",
      "Downloading opentelemetry_proto-1.30.0-py3-none-any.whl (55 kB)\n",
      "Downloading opentelemetry_instrumentation_fastapi-0.51b0-py3-none-any.whl (12 kB)\n",
      "Downloading opentelemetry_instrumentation-0.51b0-py3-none-any.whl (30 kB)\n",
      "Downloading opentelemetry_instrumentation_asgi-0.51b0-py3-none-any.whl (16 kB)\n",
      "Downloading opentelemetry_semantic_conventions-0.51b0-py3-none-any.whl (177 kB)\n",
      "Downloading opentelemetry_util_http-0.51b0-py3-none-any.whl (7.3 kB)\n",
      "Downloading opentelemetry_sdk-1.30.0-py3-none-any.whl (118 kB)\n",
      "Downloading overrides-7.7.0-py3-none-any.whl (17 kB)\n",
      "Downloading posthog-3.15.1-py2.py3-none-any.whl (74 kB)\n",
      "Downloading rich-13.9.4-py3-none-any.whl (242 kB)\n",
      "Downloading typer-0.15.1-py3-none-any.whl (44 kB)\n",
      "Downloading uvicorn-0.34.0-py3-none-any.whl (62 kB)\n",
      "Downloading importlib_resources-6.5.2-py3-none-any.whl (37 kB)\n",
      "Downloading durationpy-0.9-py3-none-any.whl (3.5 kB)\n",
      "Downloading httptools-0.6.4-cp310-cp310-win_amd64.whl (88 kB)\n",
      "Downloading importlib_metadata-8.5.0-py3-none-any.whl (26 kB)\n",
      "Downloading markdown_it_py-3.0.0-py3-none-any.whl (87 kB)\n",
      "Downloading monotonic-1.6-py2.py3-none-any.whl (8.2 kB)\n",
      "Downloading oauthlib-3.2.2-py3-none-any.whl (151 kB)\n",
      "Downloading shellingham-1.5.4-py2.py3-none-any.whl (9.8 kB)\n",
      "Downloading starlette-0.45.3-py3-none-any.whl (71 kB)\n",
      "Downloading tomli-2.2.1-py3-none-any.whl (14 kB)\n",
      "Downloading watchfiles-1.0.4-cp310-cp310-win_amd64.whl (284 kB)\n",
      "Downloading websocket_client-1.8.0-py3-none-any.whl (58 kB)\n",
      "Downloading websockets-15.0-cp310-cp310-win_amd64.whl (176 kB)\n",
      "Downloading pyproject_hooks-1.2.0-py3-none-any.whl (10 kB)\n",
      "Downloading requests_oauthlib-2.0.0-py2.py3-none-any.whl (24 kB)\n",
      "Downloading asgiref-3.8.1-py3-none-any.whl (23 kB)\n",
      "Downloading mdurl-0.1.2-py3-none-any.whl (10.0 kB)\n",
      "Downloading zipp-3.21.0-py3-none-any.whl (9.6 kB)\n",
      "Building wheels for collected packages: pypika\n",
      "  Building wheel for pypika (pyproject.toml): started\n",
      "  Building wheel for pypika (pyproject.toml): finished with status 'done'\n",
      "  Created wheel for pypika: filename=PyPika-0.48.9-py2.py3-none-any.whl size=53885 sha256=1259954d6af8622e22b4ddc63bc0fef00d3a8535130264e1270f057034b0c5d8\n",
      "  Stored in directory: c:\\users\\user\\appdata\\local\\pip\\cache\\wheels\\e1\\26\\51\\d0bffb3d2fd82256676d7ad3003faea3bd6dddc9577af665f4\n",
      "Successfully built pypika\n",
      "Installing collected packages: pypika, monotonic, durationpy, zipp, websockets, websocket-client, tomli, shellingham, pyproject_hooks, overrides, opentelemetry-util-http, opentelemetry-proto, oauthlib, mmh3, mdurl, importlib-resources, httptools, chroma-hnswlib, bcrypt, asgiref, watchfiles, uvicorn, starlette, requests-oauthlib, posthog, opentelemetry-exporter-otlp-proto-common, markdown-it-py, importlib-metadata, rich, opentelemetry-api, kubernetes, fastapi, build, typer, opentelemetry-semantic-conventions, opentelemetry-sdk, opentelemetry-instrumentation, opentelemetry-instrumentation-asgi, opentelemetry-exporter-otlp-proto-grpc, opentelemetry-instrumentation-fastapi, chromadb\n",
      "Successfully installed asgiref-3.8.1 bcrypt-4.2.1 build-1.2.2.post1 chroma-hnswlib-0.7.6 chromadb-0.6.3 durationpy-0.9 fastapi-0.115.8 httptools-0.6.4 importlib-metadata-8.5.0 importlib-resources-6.5.2 kubernetes-32.0.1 markdown-it-py-3.0.0 mdurl-0.1.2 mmh3-5.1.0 monotonic-1.6 oauthlib-3.2.2 opentelemetry-api-1.30.0 opentelemetry-exporter-otlp-proto-common-1.30.0 opentelemetry-exporter-otlp-proto-grpc-1.30.0 opentelemetry-instrumentation-0.51b0 opentelemetry-instrumentation-asgi-0.51b0 opentelemetry-instrumentation-fastapi-0.51b0 opentelemetry-proto-1.30.0 opentelemetry-sdk-1.30.0 opentelemetry-semantic-conventions-0.51b0 opentelemetry-util-http-0.51b0 overrides-7.7.0 posthog-3.15.1 pypika-0.48.9 pyproject_hooks-1.2.0 requests-oauthlib-2.0.0 rich-13.9.4 shellingham-1.5.4 starlette-0.45.3 tomli-2.2.1 typer-0.15.1 uvicorn-0.34.0 watchfiles-1.0.4 websocket-client-1.8.0 websockets-15.0 zipp-3.21.0\n"
     ]
    }
   ],
   "source": [
    "pip install chromadb"
   ]
  },
  {
   "cell_type": "code",
   "execution_count": 12,
   "metadata": {},
   "outputs": [],
   "source": [
    "# 5. Try creating the vector database\n",
    "vector_db = Chroma.from_documents(\n",
    "    documents=chunks,\n",
    "    embedding=OllamaEmbeddings(model=\"gemma2:2b\"),\n",
    "    collection_name=\"local-rag\"\n",
    ")"
   ]
  },
  {
   "cell_type": "markdown",
   "metadata": {},
   "source": [
    "Retrieval\n"
   ]
  },
  {
   "cell_type": "code",
   "execution_count": 13,
   "metadata": {},
   "outputs": [],
   "source": [
    "from langchain.prompts import ChatPromptTemplate, PromptTemplate\n",
    "from langchain_core.output_parsers import StrOutputParser\n",
    "from langchain_ollama.chat_models import ChatOllama\n",
    "from langchain_core.runnables import RunnablePassthrough\n",
    "from langchain.retrievers.multi_query import MultiQueryRetriever"
   ]
  },
  {
   "cell_type": "code",
   "execution_count": 14,
   "metadata": {},
   "outputs": [],
   "source": [
    "local_model = \"gemma2:2b\"\n",
    "llm = ChatOllama(model=local_model)"
   ]
  },
  {
   "cell_type": "code",
   "execution_count": 15,
   "metadata": {},
   "outputs": [],
   "source": [
    "QUERY_PROMPT = PromptTemplate(\n",
    "    input_variables=[\"question\"],\n",
    "    template=\"\"\"You are an AI language model assistant. Your task is to generate five\n",
    "    different versions of the given user question to retrieve relevant documents from\n",
    "    a vector database. By generating multiple perspectives on the user question, your\n",
    "    goal is to help the user overcome some of the limitations of the distance-based\n",
    "    similarity search. Provide these alternative questions separated by newlines.\n",
    "    Original question: {question}\"\"\",\n",
    ")"
   ]
  },
  {
   "cell_type": "code",
   "execution_count": 16,
   "metadata": {},
   "outputs": [],
   "source": [
    "retriever = MultiQueryRetriever.from_llm(\n",
    "    vector_db.as_retriever(), \n",
    "    llm,\n",
    "    prompt=QUERY_PROMPT\n",
    ")\n",
    "\n",
    "# RAG prompt\n",
    "template = \"\"\"Answer the question based ONLY on the following context:\n",
    "{context}\n",
    "Question: {question}\n",
    "\"\"\"\n",
    "\n",
    "prompt = ChatPromptTemplate.from_template(template)"
   ]
  },
  {
   "cell_type": "code",
   "execution_count": 17,
   "metadata": {},
   "outputs": [],
   "source": [
    "chain = (\n",
    "    {\"context\": retriever, \"question\": RunnablePassthrough()}\n",
    "    | prompt\n",
    "    | llm\n",
    "    | StrOutputParser()\n",
    ")"
   ]
  },
  {
   "cell_type": "code",
   "execution_count": 19,
   "metadata": {},
   "outputs": [
    {
     "data": {
      "text/plain": [
       "\"This research paper discusses the formation and characteristics of objects in young star clusters. It delves into aspects such as:\\n\\n**1. Planet Formation and Ejection:** \\n- The paper examines how planets form within star clusters, specifically focusing on their ejection from these environments. \\n\\n**2. Mass Function Models:**\\n-  The research explores different approaches to modeling the distribution of object masses (mass function) in young star clusters. They present a log-normal mass function as well as a power law model and discuss the relative consistency with observational data. This is based on work by Bastian et al., Muzic et al., and others. \\n\\n**3. Cluster Observational Data:**\\n- The paper utilizes observations of NGC1333, a young star cluster, to analyze the mass function in more detail. It highlights the importance of comparing their findings to data from other clusters for broader scientific validation.\\n\\n**4. Star Formation Simulations:**\\n- Simulations are used to predict how star formation works and what kind of stars are likely to form.  The paper highlights that these simulations can help explain the observed masses of brown dwarfs and low-mass stars within star clusters. \\n\\n\\n**Key Takeaways:**\\n\\n* The research examines the relationship between cluster environments and the formation of planets, brown dwarfs, and their typical mass distribution.\\n* It stresses the importance of observational data and theoretical modeling in understanding these processes.\\n* The paper provides a framework for investigating these objects in young star clusters and compares different models for describing their mass function.\\n\\n\\n\\nIf you'd like to understand specific details or explore any aspect of the research, feel free to ask further questions! \""
      ]
     },
     "execution_count": 19,
     "metadata": {},
     "output_type": "execute_result"
    }
   ],
   "source": [
    "chain.invoke(\"What does the research paper say?\")"
   ]
  },
  {
   "cell_type": "code",
   "execution_count": 20,
   "metadata": {},
   "outputs": [],
   "source": [
    "# Delete all collections in the db\n",
    "vector_db.delete_collection()"
   ]
  }
 ],
 "metadata": {
  "kernelspec": {
   "display_name": ".venv",
   "language": "python",
   "name": "python3"
  },
  "language_info": {
   "codemirror_mode": {
    "name": "ipython",
    "version": 3
   },
   "file_extension": ".py",
   "mimetype": "text/x-python",
   "name": "python",
   "nbconvert_exporter": "python",
   "pygments_lexer": "ipython3",
   "version": "3.10.0"
  }
 },
 "nbformat": 4,
 "nbformat_minor": 2
}
