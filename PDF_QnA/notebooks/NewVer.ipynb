{
 "cells": [
  {
   "cell_type": "markdown",
   "metadata": {},
   "source": [
    "Import Libraries\n"
   ]
  },
  {
   "cell_type": "code",
   "execution_count": 1,
   "metadata": {},
   "outputs": [],
   "source": [
    "# Imports\n",
    "from langchain_community.document_loaders import UnstructuredPDFLoader\n",
    "from langchain_ollama import OllamaEmbeddings\n",
    "from langchain_text_splitters import RecursiveCharacterTextSplitter\n",
    "from langchain_community.vectorstores import Chroma\n",
    "from langchain.prompts import ChatPromptTemplate, PromptTemplate\n",
    "from langchain_core.output_parsers import StrOutputParser\n",
    "from langchain_ollama.chat_models import ChatOllama\n",
    "from langchain_core.runnables import RunnablePassthrough\n",
    "from langchain.retrievers.multi_query import MultiQueryRetriever\n",
    "\n",
    "# Suppress warnings\n",
    "import warnings\n",
    "warnings.filterwarnings('ignore')\n",
    "\n",
    "# Jupyter-specific imports\n",
    "from IPython.display import display, Markdown\n",
    "\n",
    "# Set environment variable for protobuf\n",
    "import os\n",
    "os.environ[\"PROTOCOL_BUFFERS_PYTHON_IMPLEMENTATION\"] = \"python\""
   ]
  },
  {
   "cell_type": "markdown",
   "metadata": {},
   "source": [
    "Load PDF"
   ]
  },
  {
   "cell_type": "code",
   "execution_count": 5,
   "metadata": {},
   "outputs": [
    {
     "name": "stdout",
     "output_type": "stream",
     "text": [
      "PDF loaded successfully: metagpt.pdf\n"
     ]
    }
   ],
   "source": [
    "# Load PDF\n",
    "local_path = \"metagpt.pdf\"\n",
    "if local_path:\n",
    "    loader = UnstructuredPDFLoader(file_path=local_path)\n",
    "    data = loader.load()\n",
    "    print(f\"PDF loaded successfully: {local_path}\")\n",
    "else:\n",
    "    print(\"Upload a PDF file\")"
   ]
  },
  {
   "cell_type": "markdown",
   "metadata": {},
   "source": [
    "Split Texts"
   ]
  },
  {
   "cell_type": "code",
   "execution_count": 6,
   "metadata": {},
   "outputs": [
    {
     "name": "stdout",
     "output_type": "stream",
     "text": [
      "Text split into 109 chunks\n"
     ]
    }
   ],
   "source": [
    "# Split text into chunks\n",
    "text_splitter = RecursiveCharacterTextSplitter(chunk_size=1000, chunk_overlap=200)\n",
    "chunks = text_splitter.split_documents(data)\n",
    "print(f\"Text split into {len(chunks)} chunks\")"
   ]
  },
  {
   "cell_type": "markdown",
   "metadata": {},
   "source": [
    "Create vector database\n"
   ]
  },
  {
   "cell_type": "code",
   "execution_count": 8,
   "metadata": {},
   "outputs": [
    {
     "name": "stdout",
     "output_type": "stream",
     "text": [
      "Vector database created successfully\n"
     ]
    }
   ],
   "source": [
    "# Create vector database\n",
    "vector_db = Chroma.from_documents(\n",
    "    documents=chunks,\n",
    "    embedding=OllamaEmbeddings(model=\"gemma2:2b\"),\n",
    "    collection_name=\"local-rag\"\n",
    ")\n",
    "print(\"Vector database created successfully\")"
   ]
  },
  {
   "cell_type": "markdown",
   "metadata": {},
   "source": [
    "Set up LLM and Retrieval\n"
   ]
  },
  {
   "cell_type": "code",
   "execution_count": 10,
   "metadata": {},
   "outputs": [],
   "source": [
    "# Set up LLM and retrieval\n",
    "local_model = \"gemma2:2b\"  # or whichever model you prefer\n",
    "llm = ChatOllama(model=local_model)"
   ]
  },
  {
   "cell_type": "code",
   "execution_count": 11,
   "metadata": {},
   "outputs": [],
   "source": [
    "# Query prompt template\n",
    "QUERY_PROMPT = PromptTemplate(\n",
    "    input_variables=[\"question\"],\n",
    "    template=\"\"\"You are an AI language model assistant. Your task is to generate 2\n",
    "    different versions of the given user question to retrieve relevant documents from\n",
    "    a vector database. By generating multiple perspectives on the user question, your\n",
    "    goal is to help the user overcome some of the limitations of the distance-based\n",
    "    similarity search. Provide these alternative questions separated by newlines.\n",
    "    Original question: {question}\"\"\",\n",
    ")\n",
    "\n",
    "# Set up retriever\n",
    "retriever = MultiQueryRetriever.from_llm(\n",
    "    vector_db.as_retriever(), \n",
    "    llm,\n",
    "    prompt=QUERY_PROMPT\n",
    ")"
   ]
  },
  {
   "cell_type": "markdown",
   "metadata": {},
   "source": [
    "Create Chain"
   ]
  },
  {
   "cell_type": "code",
   "execution_count": 12,
   "metadata": {},
   "outputs": [],
   "source": [
    "# RAG prompt template\n",
    "template = \"\"\"Answer the question based ONLY on the following context:\n",
    "{context}\n",
    "Question: {question}\n",
    "\"\"\"\n",
    "\n",
    "prompt = ChatPromptTemplate.from_template(template)\n"
   ]
  },
  {
   "cell_type": "code",
   "execution_count": 13,
   "metadata": {},
   "outputs": [],
   "source": [
    "# Create chain\n",
    "chain = (\n",
    "    {\"context\": retriever, \"question\": RunnablePassthrough()}\n",
    "    | prompt\n",
    "    | llm\n",
    "    | StrOutputParser()\n",
    ")"
   ]
  },
  {
   "cell_type": "markdown",
   "metadata": {},
   "source": [
    "Chat with PDF\n"
   ]
  },
  {
   "cell_type": "code",
   "execution_count": 14,
   "metadata": {},
   "outputs": [],
   "source": [
    "def chat_with_pdf(question):\n",
    "    \"\"\"\n",
    "    Chat with the PDF using the RAG chain.\n",
    "    \"\"\"\n",
    "    return display(Markdown(chain.invoke(question)))"
   ]
  },
  {
   "cell_type": "code",
   "execution_count": 15,
   "metadata": {},
   "outputs": [
    {
     "data": {
      "text/markdown": [
       "This document explores and details **MetaGPT**, a novel approach for software development using large language models (LLMs) and specialized agents. \n",
       "\n",
       "Here's a breakdown of its key points:\n",
       "\n",
       "* **The Problem:** Existing LLMs struggle with complex software engineering tasks requiring detailed system design, requirements analysis, and code generation.\n",
       "* **The Solution: MetaGPT**  utilizes a structured approach to address these challenges by:\n",
       "    * **Specialized Agents:** Dividing tasks into roles specific agents specialize in (e.g., requirement analysis, code generation) for efficiency.\n",
       "    * **Shared Message Pool:** Enabling efficient communication and information sharing between agents to streamline workflow.\n",
       "    * **Structured Output Formats:**  Enabling the generation of detailed reports and design plans that can be easily interpreted and implemented.\n",
       "\n",
       "* **Advantages of MetaGPT over other LLMs:**  MetaGPT excels in handling complex software development through:\n",
       "     * **Automated Requirement Analysis:** Translating user needs into detailed system designs.\n",
       "     * **Improved Communication Efficiency:** Eliminating communication bottlenecks using a centralized message pool. \n",
       "\n",
       "\n",
       "Ultimately, the document advocates for MetaGPT as a promising methodology to unlock the potential of LLMs in complex software engineering tasks. \n"
      ],
      "text/plain": [
       "<IPython.core.display.Markdown object>"
      ]
     },
     "metadata": {},
     "output_type": "display_data"
    }
   ],
   "source": [
    "# Example 1\n",
    "chat_with_pdf(\"What is the main idea of this document?\")"
   ]
  },
  {
   "cell_type": "code",
   "execution_count": 17,
   "metadata": {},
   "outputs": [
    {
     "data": {
      "text/markdown": [
       "MetaGPT, as described in this document, offers a unique approach to software development that addresses several limitations of existing solutions. \n",
       "\n",
       "Here's a breakdown of its strengths and how it positions itself as a potential solution:\n",
       "\n",
       "**1. Addressing the Challenges:**\n",
       "\n",
       "* **Ambiguity & Information Validity:** MetaGPT tackles two sub-challenges:\n",
       "    * **Unfolding Natural Language:** It aims to accurately translate short descriptions into clear instructions for execution, reducing ambiguity and improving accuracy. \n",
       "    * **Maintaining Contextual Validity:**  It handles complex tasks within lengthy contexts (like large software development) while ensuring information relevance, focusing on the relevant data without getting bogged down.\n",
       "\n",
       "**2. Unique Features for Complex System Development:**\n",
       "\n",
       "* **Systematic Decomposition:** MetaGPT tackles the complexities of developing systems by breaking down requirements into manageable steps. This is achieved through SOPs (Standard Operating Procedures). \n",
       "* **Structured Messaging & Feedback:**  It provides a structured platform for communication between developers and ensures clear feedback mechanisms, reducing errors and improving efficiency.\n",
       "* **Collaboration Focus:** It emphasizes collaboration with skilled development teams to address challenges that individual AI models might struggle with.\n",
       "\n",
       "**3. Why MetaGPT is Superior to the Alternatives:**\n",
       "\n",
       "* **Auto-GPT (Torantulino et al., 2023), Langchain (Chase, 2022), and Agent-Verse (Chen et al., 2023):** These models demonstrate strong problem-solving abilities. However, they still face challenges in breaking down requirements into actionable steps and handling complex contexts efficiently. \n",
       "* **Chat-Dev (Zhao et al., 2023):** While potentially useful for specific tasks, it lacks the system-wide focus and structured framework needed to handle complex software development.\n",
       "\n",
       "**In Summary:**\n",
       "\n",
       "MetaGPT offers a distinct approach by combining specialized structures and communication mechanisms within an SOP framework.  This allows it to deliver on complex software development needs while addressing key challenges that other approaches haven't fully tackled, particularly in terms of system architecture and complexity.\n",
       "\n",
       "\n",
       " **Note**: The provided text is quite technical and provides detailed explanations about the workings of MetaGPT. If you need a more simplified explanation or have specific questions about its features and how it works, feel free to ask! \n"
      ],
      "text/plain": [
       "<IPython.core.display.Markdown object>"
      ]
     },
     "metadata": {},
     "output_type": "display_data"
    }
   ],
   "source": [
    "# Example 2\n",
    "chat_with_pdf(\"Can you explain why is MetaGPT the solution?\")"
   ]
  },
  {
   "cell_type": "code",
   "execution_count": 18,
   "metadata": {},
   "outputs": [
    {
     "data": {
      "text/markdown": [
       "This text describes a study on using large language models (LLMs) for developing complex software systems.  Here's a summary of their experiment and results:\n",
       "\n",
       "**Experiment:** The researchers designed an LLM-driven system called \"MetaGPT\" to help users develop programs in natural language. They compare MetaGPT with other state-of-the-art LLMs like AutoGPT, Langchain, and Agent-Verse.  To evaluate its effectiveness, they use several testing methods:\n",
       "\n",
       "* **Requirements Breakdown:** MetaGPT breaks down complex programming requirements into concrete designs and plans for execution.\n",
       "* **Real-time Visualization:** The system allows for real-time visualization of code and user actions for better understanding and feedback. \n",
       "* **Accuracy Tests:**  The code developed by MetaGPT is tested rigorously for accuracy using Python's unittest library.\n",
       "\n",
       "**Results:** \n",
       "* **Efficiency & Accuracy:** MetaGPT demonstrated high efficiency and accuracy in creating working software, outperforming the traditional methods of programming. This suggests a significant step towards automating complex development tasks. \n",
       "* **User-Friendly Experience:** The use of natural language allows anyone to participate, making it a more accessible tool for programmers.\n",
       "\n",
       "**Key Takeaways:** \n",
       "The paper highlights that MetaGPT has significant potential in revolutionizing software development. It offers users a faster, more user-friendly way to build complex systems, while also demonstrating greater accuracy and efficiency compared to traditional methods.\n",
       "\n",
       "\n",
       "Let me know if you'd like me to elaborate on specific parts of the experiment or results! \n"
      ],
      "text/plain": [
       "<IPython.core.display.Markdown object>"
      ]
     },
     "metadata": {},
     "output_type": "display_data"
    }
   ],
   "source": [
    "# Example 2\n",
    "chat_with_pdf(\"Summarize only the Experiment and Results part of the paper.\")"
   ]
  }
 ],
 "metadata": {
  "kernelspec": {
   "display_name": ".venv",
   "language": "python",
   "name": "python3"
  },
  "language_info": {
   "codemirror_mode": {
    "name": "ipython",
    "version": 3
   },
   "file_extension": ".py",
   "mimetype": "text/x-python",
   "name": "python",
   "nbconvert_exporter": "python",
   "pygments_lexer": "ipython3",
   "version": "3.10.0"
  }
 },
 "nbformat": 4,
 "nbformat_minor": 2
}
